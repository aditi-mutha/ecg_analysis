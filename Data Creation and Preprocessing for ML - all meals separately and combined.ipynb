{
 "cells": [
  {
   "cell_type": "code",
   "execution_count": 1,
   "id": "5f78bc37",
   "metadata": {
    "ExecuteTime": {
     "end_time": "2022-07-26T19:15:58.554255Z",
     "start_time": "2022-07-26T19:15:55.788577Z"
    }
   },
   "outputs": [],
   "source": [
    "import numpy as np\n",
    "import pandas as pd\n",
    "import seaborn as sns\n",
    "import matplotlib.pyplot as plt\n",
    "%matplotlib inline\n",
    "import sklearn\n",
    "import warnings\n",
    "\n",
    "from sklearn import preprocessing\n",
    "from sklearn import metrics\n",
    "from sklearn.datasets import make_classification\n",
    "from sklearn.preprocessing import StandardScaler, PowerTransformer, QuantileTransformer\n",
    "from sklearn.model_selection import GridSearchCV, RandomizedSearchCV\n",
    "from sklearn.linear_model import LinearRegression\n",
    "from sklearn.tree import DecisionTreeRegressor\n",
    "from sklearn.ensemble import GradientBoostingRegressor\n",
    "from sklearn.ensemble import RandomForestRegressor\n",
    "from sklearn.metrics import mean_squared_error, mean_absolute_error, r2_score, mean_squared_log_error, explained_variance_score\n",
    "\n",
    "from xgboost import XGBRegressor\n",
    "from xgboost import plot_importance\n",
    "\n",
    "from lightgbm import LGBMRegressor\n",
    "from catboost import CatBoostRegressor\n",
    "from catboost import Pool\n",
    "\n",
    "from scipy import stats\n",
    "from scipy.stats import skew\n",
    "\n",
    "from numpy import loadtxt\n",
    "from matplotlib import pyplot\n",
    "\n",
    "warnings.filterwarnings('ignore')"
   ]
  },
  {
   "cell_type": "code",
   "execution_count": 2,
   "id": "13378ae8",
   "metadata": {
    "ExecuteTime": {
     "end_time": "2022-07-26T19:15:58.850353Z",
     "start_time": "2022-07-26T19:15:58.554255Z"
    }
   },
   "outputs": [],
   "source": [
    "train = pd.read_csv('data/train.csv')\n",
    "test = pd.read_csv('data/test.csv')\n",
    "meal = pd.read_csv('data/meal_info.csv')\n",
    "center = pd.read_csv('data/fulfilment_center_info.csv')"
   ]
  },
  {
   "cell_type": "code",
   "execution_count": 3,
   "id": "783d3ad4",
   "metadata": {
    "ExecuteTime": {
     "end_time": "2022-07-26T19:15:59.053270Z",
     "start_time": "2022-07-26T19:15:58.850353Z"
    }
   },
   "outputs": [],
   "source": [
    "train=train.merge(center,on='center_id',how='left')\n",
    "train=train.merge(meal,on='meal_id',how='left')"
   ]
  },
  {
   "cell_type": "code",
   "execution_count": 4,
   "id": "5c9e360a",
   "metadata": {
    "ExecuteTime": {
     "end_time": "2022-07-26T19:15:59.085269Z",
     "start_time": "2022-07-26T19:15:59.053270Z"
    }
   },
   "outputs": [],
   "source": [
    "test=test.merge(center,on='center_id',how='left')\n",
    "test=test.merge(meal,on='meal_id',how='left')"
   ]
  },
  {
   "cell_type": "code",
   "execution_count": 5,
   "id": "cdcdaa65",
   "metadata": {
    "ExecuteTime": {
     "end_time": "2022-07-26T19:15:59.117343Z",
     "start_time": "2022-07-26T19:15:59.085269Z"
    }
   },
   "outputs": [],
   "source": [
    "dataset =  pd.concat(objs=[train, test], axis=0,ignore_index=True)"
   ]
  },
  {
   "cell_type": "code",
   "execution_count": 6,
   "id": "5b991e29",
   "metadata": {
    "ExecuteTime": {
     "end_time": "2022-07-26T19:16:00.067244Z",
     "start_time": "2022-07-26T19:15:59.891258Z"
    }
   },
   "outputs": [
    {
     "data": {
      "text/plain": [
       "(array([-5000.,     0.,  5000., 10000., 15000., 20000., 25000., 30000.]),\n",
       " [Text(0, 0, ''),\n",
       "  Text(0, 0, ''),\n",
       "  Text(0, 0, ''),\n",
       "  Text(0, 0, ''),\n",
       "  Text(0, 0, ''),\n",
       "  Text(0, 0, ''),\n",
       "  Text(0, 0, ''),\n",
       "  Text(0, 0, '')])"
      ]
     },
     "execution_count": 6,
     "metadata": {},
     "output_type": "execute_result"
    },
    {
     "data": {
      "image/png": "[encoded data removed]",
      "text/plain": [
       "<Figure size 640x480 with 1 Axes>"
      ]
     },
     "metadata": {},
     "output_type": "display_data"
    }
   ],
   "source": [
    "sns.boxplot(x='num_orders',data=dataset)\n",
    "plt.xticks(rotation=90)"
   ]
  },
  {
   "cell_type": "code",
   "execution_count": 7,
   "id": "57175e12",
   "metadata": {
    "ExecuteTime": {
     "end_time": "2022-07-26T19:16:00.771493Z",
     "start_time": "2022-07-26T19:16:00.659462Z"
    }
   },
   "outputs": [],
   "source": [
    "#outlier finder\n",
    "outlier_num_ord = dataset[(dataset['num_orders']>20000)].index\n",
    "#eliminate outlier\n",
    "dataset.drop(outlier_num_ord,inplace = True)"
   ]
  },
  {
   "cell_type": "code",
   "execution_count": 8,
   "id": "e3336f28",
   "metadata": {
    "ExecuteTime": {
     "end_time": "2022-07-26T19:16:01.770794Z",
     "start_time": "2022-07-26T19:16:01.392544Z"
    }
   },
   "outputs": [],
   "source": [
    "meal_1885=dataset[dataset['meal_id']==1885].sort_values(by=[\"center_id\",'week'], ascending=True)\n",
    "meal_1993=dataset[dataset['meal_id']==1993].sort_values(by=[\"center_id\",'week'], ascending=True)\n",
    "meal_2539=dataset[dataset['meal_id']==2539].sort_values(by=[\"center_id\",'week'], ascending=True)\n",
    "meal_1248=dataset[dataset['meal_id']==1248].sort_values(by=[\"center_id\",'week'], ascending=True)\n",
    "meal_2631=dataset[dataset['meal_id']==2631].sort_values(by=[\"center_id\",'week'], ascending=True)\n",
    "meal_1311=dataset[dataset['meal_id']==1311].sort_values(by=[\"center_id\",'week'], ascending=True)\n",
    "meal_1062=dataset[dataset['meal_id']==1062].sort_values(by=[\"center_id\",'week'], ascending=True)\n",
    "meal_1778=dataset[dataset['meal_id']==1778].sort_values(by=[\"center_id\",'week'], ascending=True)\n",
    "meal_1803=dataset[dataset['meal_id']==1803].sort_values(by=[\"center_id\",'week'], ascending=True)\n",
    "meal_1198=dataset[dataset['meal_id']==1198].sort_values(by=[\"center_id\",'week'], ascending=True)\n",
    "meal_2707=dataset[dataset['meal_id']==2707].sort_values(by=[\"center_id\",'week'], ascending=True)\n",
    "meal_1847=dataset[dataset['meal_id']==1847].sort_values(by=[\"center_id\",'week'], ascending=True)\n",
    "meal_1438=dataset[dataset['meal_id']==1438].sort_values(by=[\"center_id\",'week'], ascending=True)\n",
    "meal_2494=dataset[dataset['meal_id']==2494].sort_values(by=[\"center_id\",'week'], ascending=True)\n",
    "meal_2760=dataset[dataset['meal_id']==2760].sort_values(by=[\"center_id\",'week'], ascending=True)\n",
    "meal_2490=dataset[dataset['meal_id']==2490].sort_values(by=[\"center_id\",'week'], ascending=True)\n",
    "meal_1109=dataset[dataset['meal_id']==1109].sort_values(by=[\"center_id\",'week'], ascending=True)\n",
    "meal_2290=dataset[dataset['meal_id']==2290].sort_values(by=[\"center_id\",'week'], ascending=True)\n",
    "meal_1525=dataset[dataset['meal_id']==1525].sort_values(by=[\"center_id\",'week'], ascending=True)\n",
    "meal_2704=dataset[dataset['meal_id']==2704].sort_values(by=[\"center_id\",'week'], ascending=True)\n",
    "meal_1878=dataset[dataset['meal_id']==1878].sort_values(by=[\"center_id\",'week'], ascending=True)\n",
    "meal_2640=dataset[dataset['meal_id']==2640].sort_values(by=[\"center_id\",'week'], ascending=True)\n",
    "meal_2577=dataset[dataset['meal_id']==2577].sort_values(by=[\"center_id\",'week'], ascending=True)\n",
    "meal_1754=dataset[dataset['meal_id']==1754].sort_values(by=[\"center_id\",'week'], ascending=True)\n",
    "meal_1971=dataset[dataset['meal_id']==1971].sort_values(by=[\"center_id\",'week'], ascending=True)\n",
    "meal_2306=dataset[dataset['meal_id']==2306].sort_values(by=[\"center_id\",'week'], ascending=True)\n",
    "meal_2139=dataset[dataset['meal_id']==2139].sort_values(by=[\"center_id\",'week'], ascending=True)\n",
    "meal_2826=dataset[dataset['meal_id']==2826].sort_values(by=[\"center_id\",'week'], ascending=True)\n",
    "meal_2664=dataset[dataset['meal_id']==2664].sort_values(by=[\"center_id\",'week'], ascending=True)\n",
    "meal_2569=dataset[dataset['meal_id']==2569].sort_values(by=[\"center_id\",'week'], ascending=True)\n",
    "meal_1230=dataset[dataset['meal_id']==1230].sort_values(by=[\"center_id\",'week'], ascending=True)\n",
    "meal_1207=dataset[dataset['meal_id']==1207].sort_values(by=[\"center_id\",'week'], ascending=True)\n",
    "meal_2322=dataset[dataset['meal_id']==2322].sort_values(by=[\"center_id\",'week'], ascending=True)\n",
    "meal_2492=dataset[dataset['meal_id']==2492].sort_values(by=[\"center_id\",'week'], ascending=True)\n",
    "meal_1216=dataset[dataset['meal_id']==1216].sort_values(by=[\"center_id\",'week'], ascending=True)\n",
    "meal_1727=dataset[dataset['meal_id']==1727].sort_values(by=[\"center_id\",'week'], ascending=True)\n",
    "meal_1902=dataset[dataset['meal_id']==1902].sort_values(by=[\"center_id\",'week'], ascending=True)\n",
    "meal_1247=dataset[dataset['meal_id']==1247].sort_values(by=[\"center_id\",'week'], ascending=True)\n",
    "meal_2304=dataset[dataset['meal_id']==2304].sort_values(by=[\"center_id\",'week'], ascending=True)\n",
    "meal_1543=dataset[dataset['meal_id']==1543].sort_values(by=[\"center_id\",'week'], ascending=True)\n",
    "meal_1770=dataset[dataset['meal_id']==1770].sort_values(by=[\"center_id\",'week'], ascending=True)\n",
    "meal_2126=dataset[dataset['meal_id']==2126].sort_values(by=[\"center_id\",'week'], ascending=True)\n",
    "meal_1558=dataset[dataset['meal_id']==1558].sort_values(by=[\"center_id\",'week'], ascending=True)\n",
    "meal_2581=dataset[dataset['meal_id']==2581].sort_values(by=[\"center_id\",'week'], ascending=True)\n",
    "meal_1962=dataset[dataset['meal_id']==1962].sort_values(by=[\"center_id\",'week'], ascending=True)\n",
    "meal_1571=dataset[dataset['meal_id']==1571].sort_values(by=[\"center_id\",'week'], ascending=True)\n",
    "meal_2956=dataset[dataset['meal_id']==2956].sort_values(by=[\"center_id\",'week'], ascending=True)\n",
    "meal_2104=dataset[dataset['meal_id']==2104].sort_values(by=[\"center_id\",'week'], ascending=True)\n",
    "meal_2444=dataset[dataset['meal_id']==2444].sort_values(by=[\"center_id\",'week'], ascending=True)\n",
    "meal_2867=dataset[dataset['meal_id']==2867].sort_values(by=[\"center_id\",'week'], ascending=True)\n",
    "meal_1445=dataset[dataset['meal_id']==1445].sort_values(by=[\"center_id\",'week'], ascending=True)"
   ]
  },
  {
   "cell_type": "code",
   "execution_count": 9,
   "id": "2e73b4e5",
   "metadata": {
    "ExecuteTime": {
     "end_time": "2022-07-26T19:16:02.173392Z",
     "start_time": "2022-07-26T19:16:02.149397Z"
    }
   },
   "outputs": [],
   "source": [
    "# Features constructed from previous sales values\n",
    "\n",
    "#Creating sales lag features\n",
    "def create_sales_lag_feats(df, gpby_cols, target_col, lags):\n",
    "    gpby = df.groupby(gpby_cols)\n",
    "    for i in lags:\n",
    "        df['_'.join([target_col, 'lag', str(i)])] = \\\n",
    "                gpby[target_col].shift(i).values\n",
    "    return df\n",
    "\n",
    "# Creating sales exponentially weighted mean features\n",
    "def create_sales_ewm_feats(df, gpby_cols, target_col, alpha=[0.9], shift=[1]):\n",
    "    gpby = df.groupby(gpby_cols)\n",
    "    for a in alpha:\n",
    "        for s in shift:\n",
    "            df['_'.join([target_col, 'lag', str(s), 'ewm', str(a)])] = \\\n",
    "                gpby[target_col].shift(s).ewm(alpha=a).mean().values\n",
    "    return df"
   ]
  },
  {
   "cell_type": "code",
   "execution_count": 10,
   "id": "4750903b",
   "metadata": {
    "ExecuteTime": {
     "end_time": "2022-07-26T19:16:04.767370Z",
     "start_time": "2022-07-26T19:16:02.607589Z"
    }
   },
   "outputs": [],
   "source": [
    "# Creating num_orders lag and ewm\n",
    "meal_1885 = create_sales_lag_feats(meal_1885,\n",
    "                              gpby_cols=['center_id', 'meal_id'],\n",
    "                              target_col='num_orders',\n",
    "                              lags=[10, 11, 12])\n",
    "meal_1885 = create_sales_ewm_feats(meal_1885,\n",
    "                              gpby_cols=['center_id', 'meal_id'],\n",
    "                              target_col='num_orders',\n",
    "                              alpha=[0.5],\n",
    "                              shift=[10, 11, 12, 13, 14, 15])\n",
    "\n",
    "gdf = train.groupby([\"center_id\", \"week\"])[\"id\"].agg(['size']).reset_index()\n",
    "gdf.columns = [\"center_id\", \"week\", \"center_week_count\"]\n",
    "train = pd.merge(train,gdf, on=[\"center_id\", \"week\"], how=\"left\")\n",
    "\n",
    "# Entries with for example, center_id 10 and category bevarages\n",
    "gdf = train.groupby([\"center_id\", \"category\"])[\"id\"].count().reset_index()\n",
    "gdf.columns = [\"center_id\", \"category\", \"center_cat_count\"]\n",
    "train = pd.merge(train,gdf, on=[\"center_id\", \"category\"], how=\"left\") \n",
    "\n",
    "# Entries with for example center_id 10, category beverages in week 10\n",
    "gdf = train.groupby([\"center_id\", \"category\", \"week\"])[\"id\"].count().reset_index()\n",
    "gdf.columns = [\"center_id\", \"category\", \"week\", \"center_cat_week_count\"]\n",
    "train = pd.merge(train,gdf, on=[\"center_id\", \"category\", \"week\"], how=\"left\")\n",
    "\n",
    "#Entries with for example center id 10 and continental cuisine\n",
    "gdf = train.groupby([\"center_id\", \"cuisine\"])[\"id\"].count().reset_index()\n",
    "gdf.columns = [\"center_id\", \"cuisine\", \"center_cui_count\"]\n",
    "train = pd.merge(train,gdf, on=[\"center_id\", \"cuisine\"], how=\"left\")\n",
    "\n",
    "### Meal count features ###\n",
    "gdf = train.groupby([\"meal_id\"])[\"id\"].count().reset_index()\n",
    "gdf.columns = [\"meal_id\", \"meal_count\"]\n",
    "train = pd.merge(train,gdf, on=[\"meal_id\"], how=\"left\")\n",
    "\n",
    "gdf = train.groupby([\"region_code\", \"meal_id\"])[\"id\"].count().reset_index()\n",
    "gdf.columns = [\"region_code\", \"meal_id\", \"region_meal_count\"]\n",
    "train= pd.merge(train,gdf, on=[\"region_code\", \"meal_id\"], how=\"left\")\n",
    "\n",
    "gdf = train.groupby([\"meal_id\", \"week\"])[\"id\"].count().reset_index()\n",
    "gdf.columns = [\"meal_id\", \"week\", \"meal_week_count\"]\n",
    "train = pd.merge(train,gdf, on=[\"meal_id\", \"week\"], how=\"left\")\n",
    "\n",
    "gdf =train.groupby([\"center_type\", \"meal_id\", \"week\"])[\"id\"].count().reset_index()\n",
    "gdf.columns = [\"center_type\", \"meal_id\", \"week\", \"type_meal_week_count\"]\n",
    "train = pd.merge(train,gdf, on=[\"center_type\", \"meal_id\", \"week\"], how=\"left\")\n",
    "\n",
    "gdf = train.groupby([\"region_code\", \"meal_id\", \"week\"])[\"id\"].count().reset_index()\n",
    "gdf.columns = [\"region_code\", \"meal_id\", \"week\", \"region_meal_week_count\"]\n",
    "train = pd.merge(train,gdf, on=[\"region_code\", \"meal_id\", \"week\"], how=\"left\")\n",
    "\n",
    "gdf =train.groupby([\"city_code\", \"meal_id\", \"week\"])[\"id\"].count().reset_index()\n",
    "gdf.columns = [\"city_code\", \"meal_id\", \"week\", \"city_meal_week_count\"]\n",
    "train = pd.merge(train,gdf, on=[\"city_code\", \"meal_id\", \"week\"], how=\"left\")\n",
    "\n",
    "### Week features ###\n",
    "gdf = train.groupby([\"meal_id\"])[\"checkout_price\"].agg([\"min\", \"max\", \"mean\"]).reset_index()\n",
    "gdf.columns = [\"meal_id\", \"meal_price_min\", \"meal_price_max\", \"meal_price_mean\"]\n",
    "train = pd.merge(train,gdf, on=[\"meal_id\"], how=\"left\")\n",
    "\n",
    "gdf = train.groupby([\"meal_id\"])[\"base_price\"].agg([\"min\", \"max\", \"mean\"]).reset_index()\n",
    "gdf.columns = [\"meal_id\", \"disc_price_min\", \"disc_price_max\", \"disc_price_mean\"]\n",
    "train = pd.merge(train,gdf, on=[\"meal_id\"], how=\"left\")"
   ]
  },
  {
   "cell_type": "code",
   "execution_count": 11,
   "id": "8084f010",
   "metadata": {
    "ExecuteTime": {
     "end_time": "2022-07-26T19:16:04.794687Z",
     "start_time": "2022-07-26T19:16:04.767370Z"
    }
   },
   "outputs": [],
   "source": [
    "# Creating num_orders lag and ewm\n",
    "meal_1993 = create_sales_lag_feats(meal_1993,\n",
    "                              gpby_cols=['center_id', 'meal_id'],\n",
    "                              target_col='num_orders',\n",
    "                              lags=[10, 11, 12])\n",
    "meal_1993 = create_sales_ewm_feats(meal_1993,\n",
    "                              gpby_cols=['center_id', 'meal_id'],\n",
    "                              target_col='num_orders',\n",
    "                              alpha=[0.5],\n",
    "                              shift=[10, 11, 12, 13, 14, 15])"
   ]
  },
  {
   "cell_type": "code",
   "execution_count": 12,
   "id": "584fb4ce",
   "metadata": {
    "ExecuteTime": {
     "end_time": "2022-07-26T19:16:04.826691Z",
     "start_time": "2022-07-26T19:16:04.794687Z"
    }
   },
   "outputs": [],
   "source": [
    "# Creating num_orders lag and ewm\n",
    "meal_2539 = create_sales_lag_feats(meal_2539,\n",
    "                              gpby_cols=['center_id', 'meal_id'],\n",
    "                              target_col='num_orders',\n",
    "                              lags=[10, 11, 12])\n",
    "meal_2539 = create_sales_ewm_feats(meal_2539,\n",
    "                              gpby_cols=['center_id', 'meal_id'],\n",
    "                              target_col='num_orders',\n",
    "                              alpha=[0.5],\n",
    "                              shift=[10, 11, 12, 13, 14, 15])"
   ]
  },
  {
   "cell_type": "code",
   "execution_count": 13,
   "id": "49710521",
   "metadata": {
    "ExecuteTime": {
     "end_time": "2022-07-26T19:16:04.858694Z",
     "start_time": "2022-07-26T19:16:04.826691Z"
    }
   },
   "outputs": [],
   "source": [
    "# Creating num_orders lag and ewm\n",
    "meal_1248 = create_sales_lag_feats(meal_1248,\n",
    "                              gpby_cols=['center_id', 'meal_id'],\n",
    "                              target_col='num_orders',\n",
    "                              lags=[10, 11, 12])\n",
    "meal_1248 = create_sales_ewm_feats(meal_1248,\n",
    "                              gpby_cols=['center_id', 'meal_id'],\n",
    "                              target_col='num_orders',\n",
    "                              alpha=[0.5],\n",
    "                              shift=[10, 11, 12, 13, 14, 15])"
   ]
  },
  {
   "cell_type": "code",
   "execution_count": 14,
   "id": "60f3a1c7",
   "metadata": {
    "ExecuteTime": {
     "end_time": "2022-07-26T19:16:04.890730Z",
     "start_time": "2022-07-26T19:16:04.858694Z"
    }
   },
   "outputs": [],
   "source": [
    "# Creating num_orders lag and ewm\n",
    "meal_2631 = create_sales_lag_feats(meal_2631,\n",
    "                              gpby_cols=['center_id', 'meal_id'],\n",
    "                              target_col='num_orders',\n",
    "                              lags=[10, 11, 12])\n",
    "meal_2631 = create_sales_ewm_feats(meal_2631,\n",
    "                              gpby_cols=['center_id', 'meal_id'],\n",
    "                              target_col='num_orders',\n",
    "                              alpha=[0.5],\n",
    "                              shift=[10, 11, 12, 13, 14, 15])"
   ]
  },
  {
   "cell_type": "code",
   "execution_count": 15,
   "id": "e03b36eb",
   "metadata": {
    "ExecuteTime": {
     "end_time": "2022-07-26T19:16:04.906723Z",
     "start_time": "2022-07-26T19:16:04.890730Z"
    }
   },
   "outputs": [],
   "source": [
    "# Creating num_orders lag and ewm\n",
    "meal_1311 = create_sales_lag_feats(meal_1311,\n",
    "                              gpby_cols=['center_id', 'meal_id'],\n",
    "                              target_col='num_orders',\n",
    "                              lags=[10, 11, 12])\n",
    "meal_1311 = create_sales_ewm_feats(meal_1311,\n",
    "                              gpby_cols=['center_id', 'meal_id'],\n",
    "                              target_col='num_orders',\n",
    "                              alpha=[0.5],\n",
    "                              shift=[10, 11, 12, 13, 14, 15])"
   ]
  },
  {
   "cell_type": "code",
   "execution_count": 16,
   "id": "156c1e86",
   "metadata": {
    "ExecuteTime": {
     "end_time": "2022-07-26T19:16:04.938689Z",
     "start_time": "2022-07-26T19:16:04.906723Z"
    }
   },
   "outputs": [],
   "source": [
    "# Creating num_orders lag and ewm\n",
    "meal_1062 = create_sales_lag_feats(meal_1062,\n",
    "                              gpby_cols=['center_id', 'meal_id'],\n",
    "                              target_col='num_orders',\n",
    "                              lags=[10, 11, 12])\n",
    "meal_1062 = create_sales_ewm_feats(meal_1062,\n",
    "                              gpby_cols=['center_id', 'meal_id'],\n",
    "                              target_col='num_orders',\n",
    "                              alpha=[0.5],\n",
    "                              shift=[10, 11, 12, 13, 14, 15])"
   ]
  },
  {
   "cell_type": "code",
   "execution_count": 17,
   "id": "2eeed3fb",
   "metadata": {
    "ExecuteTime": {
     "end_time": "2022-07-26T19:16:04.970754Z",
     "start_time": "2022-07-26T19:16:04.938689Z"
    }
   },
   "outputs": [],
   "source": [
    "# Creating num_orders lag and ewm\n",
    "meal_1778 = create_sales_lag_feats(meal_1778,\n",
    "                              gpby_cols=['center_id', 'meal_id'],\n",
    "                              target_col='num_orders',\n",
    "                              lags=[10, 11, 12])\n",
    "meal_1778 = create_sales_ewm_feats(meal_1778,\n",
    "                              gpby_cols=['center_id', 'meal_id'],\n",
    "                              target_col='num_orders',\n",
    "                              alpha=[0.5],\n",
    "                              shift=[10, 11, 12, 13, 14, 15])"
   ]
  },
  {
   "cell_type": "code",
   "execution_count": 18,
   "id": "1c4780cd",
   "metadata": {
    "ExecuteTime": {
     "end_time": "2022-07-26T19:16:04.986689Z",
     "start_time": "2022-07-26T19:16:04.970754Z"
    }
   },
   "outputs": [],
   "source": [
    "# Creating num_orders lag and ewm\n",
    "meal_1803 = create_sales_lag_feats(meal_1803,\n",
    "                              gpby_cols=['center_id', 'meal_id'],\n",
    "                              target_col='num_orders',\n",
    "                              lags=[10, 11, 12])\n",
    "meal_1803 = create_sales_ewm_feats(meal_1803,\n",
    "                              gpby_cols=['center_id', 'meal_id'],\n",
    "                              target_col='num_orders',\n",
    "                              alpha=[0.5],\n",
    "                              shift=[10, 11, 12, 13, 14, 15])"
   ]
  },
  {
   "cell_type": "code",
   "execution_count": 19,
   "id": "688dbd0d",
   "metadata": {
    "ExecuteTime": {
     "end_time": "2022-07-26T19:16:05.002690Z",
     "start_time": "2022-07-26T19:16:04.986689Z"
    }
   },
   "outputs": [],
   "source": [
    "# Creating num_orders lag and ewm\n",
    "meal_1198 = create_sales_lag_feats(meal_1198,\n",
    "                              gpby_cols=['center_id', 'meal_id'],\n",
    "                              target_col='num_orders',\n",
    "                              lags=[10, 11, 12])\n",
    "meal_1198 = create_sales_ewm_feats(meal_1198,\n",
    "                              gpby_cols=['center_id', 'meal_id'],\n",
    "                              target_col='num_orders',\n",
    "                              alpha=[0.5],\n",
    "                              shift=[10, 11, 12, 13, 14, 15])"
   ]
  },
  {
   "cell_type": "code",
   "execution_count": 20,
   "id": "e848786d",
   "metadata": {
    "ExecuteTime": {
     "end_time": "2022-07-26T19:16:05.018721Z",
     "start_time": "2022-07-26T19:16:05.002690Z"
    }
   },
   "outputs": [],
   "source": [
    "# Creating num_orders lag and ewm\n",
    "meal_2707 = create_sales_lag_feats(meal_2707,\n",
    "                              gpby_cols=['center_id', 'meal_id'],\n",
    "                              target_col='num_orders',\n",
    "                              lags=[10, 11, 12])\n",
    "meal_2707 = create_sales_ewm_feats(meal_2707,\n",
    "                              gpby_cols=['center_id', 'meal_id'],\n",
    "                              target_col='num_orders',\n",
    "                              alpha=[0.5],\n",
    "                              shift=[10, 11, 12, 13, 14, 15])"
   ]
  },
  {
   "cell_type": "code",
   "execution_count": 21,
   "id": "45557de1",
   "metadata": {
    "ExecuteTime": {
     "end_time": "2022-07-26T19:16:05.202698Z",
     "start_time": "2022-07-26T19:16:05.178687Z"
    }
   },
   "outputs": [],
   "source": [
    "# Creating num_orders lag and ewm\n",
    "meal_1847 = create_sales_lag_feats(meal_1847,\n",
    "                              gpby_cols=['center_id', 'meal_id'],\n",
    "                              target_col='num_orders',\n",
    "                              lags=[10, 11, 12])\n",
    "meal_1847 = create_sales_ewm_feats(meal_1847,\n",
    "                              gpby_cols=['center_id', 'meal_id'],\n",
    "                              target_col='num_orders',\n",
    "                              alpha=[0.5],\n",
    "                              shift=[10, 11, 12, 13, 14, 15])"
   ]
  },
  {
   "cell_type": "code",
   "execution_count": 22,
   "id": "c6f28d3f",
   "metadata": {
    "ExecuteTime": {
     "end_time": "2022-07-26T19:16:05.418689Z",
     "start_time": "2022-07-26T19:16:05.394691Z"
    }
   },
   "outputs": [],
   "source": [
    "# Creating num_orders lag and ewm\n",
    "meal_1438 = create_sales_lag_feats(meal_1438,\n",
    "                              gpby_cols=['center_id', 'meal_id'],\n",
    "                              target_col='num_orders',\n",
    "                              lags=[10, 11, 12])\n",
    "meal_1438 = create_sales_ewm_feats(meal_1438,\n",
    "                              gpby_cols=['center_id', 'meal_id'],\n",
    "                              target_col='num_orders',\n",
    "                              alpha=[0.5],\n",
    "                              shift=[10, 11, 12, 13, 14, 15])"
   ]
  },
  {
   "cell_type": "code",
   "execution_count": 23,
   "id": "9114a11f",
   "metadata": {
    "ExecuteTime": {
     "end_time": "2022-07-26T19:16:05.626693Z",
     "start_time": "2022-07-26T19:16:05.602697Z"
    }
   },
   "outputs": [],
   "source": [
    "# Creating num_orders lag and ewm\n",
    "meal_2494 = create_sales_lag_feats(meal_2494,\n",
    "                              gpby_cols=['center_id', 'meal_id'],\n",
    "                              target_col='num_orders',\n",
    "                              lags=[10, 11, 12])\n",
    "meal_2494 = create_sales_ewm_feats(meal_2494,\n",
    "                              gpby_cols=['center_id', 'meal_id'],\n",
    "                              target_col='num_orders',\n",
    "                              alpha=[0.5],\n",
    "                              shift=[10, 11, 12, 13, 14, 15])"
   ]
  },
  {
   "cell_type": "code",
   "execution_count": 24,
   "id": "c25455b3",
   "metadata": {
    "ExecuteTime": {
     "end_time": "2022-07-26T19:16:05.834705Z",
     "start_time": "2022-07-26T19:16:05.810689Z"
    }
   },
   "outputs": [],
   "source": [
    "# Creating num_orders lag and ewm\n",
    "meal_2760 = create_sales_lag_feats(meal_2760,\n",
    "                              gpby_cols=['center_id', 'meal_id'],\n",
    "                              target_col='num_orders',\n",
    "                              lags=[10, 11, 12])\n",
    "meal_2760 = create_sales_ewm_feats(meal_2760,\n",
    "                              gpby_cols=['center_id', 'meal_id'],\n",
    "                              target_col='num_orders',\n",
    "                              alpha=[0.5],\n",
    "                              shift=[10, 11, 12, 13, 14, 15])"
   ]
  },
  {
   "cell_type": "code",
   "execution_count": 25,
   "id": "770c8479",
   "metadata": {
    "ExecuteTime": {
     "end_time": "2022-07-26T19:16:06.034690Z",
     "start_time": "2022-07-26T19:16:06.010689Z"
    }
   },
   "outputs": [],
   "source": [
    "# Creating num_orders lag and ewm\n",
    "meal_2490 = create_sales_lag_feats(meal_2490,\n",
    "                              gpby_cols=['center_id', 'meal_id'],\n",
    "                              target_col='num_orders',\n",
    "                              lags=[10, 11, 12])\n",
    "meal_2490 = create_sales_ewm_feats(meal_2490,\n",
    "                              gpby_cols=['center_id', 'meal_id'],\n",
    "                              target_col='num_orders',\n",
    "                              alpha=[0.5],\n",
    "                              shift=[10, 11, 12, 13, 14, 15])"
   ]
  },
  {
   "cell_type": "code",
   "execution_count": 26,
   "id": "c9f69171",
   "metadata": {
    "ExecuteTime": {
     "end_time": "2022-07-26T19:16:06.258693Z",
     "start_time": "2022-07-26T19:16:06.234690Z"
    }
   },
   "outputs": [],
   "source": [
    "# Creating num_orders lag and ewm\n",
    "meal_1109 = create_sales_lag_feats(meal_1109,\n",
    "                              gpby_cols=['center_id', 'meal_id'],\n",
    "                              target_col='num_orders',\n",
    "                              lags=[10, 11, 12])\n",
    "meal_1109 = create_sales_ewm_feats(meal_1109,\n",
    "                              gpby_cols=['center_id', 'meal_id'],\n",
    "                              target_col='num_orders',\n",
    "                              alpha=[0.5],\n",
    "                              shift=[10, 11, 12, 13, 14, 15])"
   ]
  },
  {
   "cell_type": "code",
   "execution_count": 27,
   "id": "6193109d",
   "metadata": {
    "ExecuteTime": {
     "end_time": "2022-07-26T19:16:06.482694Z",
     "start_time": "2022-07-26T19:16:06.450692Z"
    }
   },
   "outputs": [],
   "source": [
    "# Creating num_orders lag and ewm\n",
    "meal_2290 = create_sales_lag_feats(meal_2290,\n",
    "                              gpby_cols=['center_id', 'meal_id'],\n",
    "                              target_col='num_orders',\n",
    "                              lags=[10, 11, 12])\n",
    "meal_2290 = create_sales_ewm_feats(meal_2290,\n",
    "                              gpby_cols=['center_id', 'meal_id'],\n",
    "                              target_col='num_orders',\n",
    "                              alpha=[0.5],\n",
    "                              shift=[10, 11, 12, 13, 14, 15])"
   ]
  },
  {
   "cell_type": "code",
   "execution_count": 28,
   "id": "8cc2e80e",
   "metadata": {
    "ExecuteTime": {
     "end_time": "2022-07-26T19:16:06.716398Z",
     "start_time": "2022-07-26T19:16:06.692397Z"
    }
   },
   "outputs": [],
   "source": [
    "# Creating num_orders lag and ewm\n",
    "meal_1525 = create_sales_lag_feats(meal_1525,\n",
    "                              gpby_cols=['center_id', 'meal_id'],\n",
    "                              target_col='num_orders',\n",
    "                              lags=[10, 11, 12])\n",
    "meal_1525 = create_sales_ewm_feats(meal_1525,\n",
    "                              gpby_cols=['center_id', 'meal_id'],\n",
    "                              target_col='num_orders',\n",
    "                              alpha=[0.5],\n",
    "                              shift=[10, 11, 12, 13, 14, 15])"
   ]
  },
  {
   "cell_type": "code",
   "execution_count": 29,
   "id": "95034f18",
   "metadata": {
    "ExecuteTime": {
     "end_time": "2022-07-26T19:16:06.941692Z",
     "start_time": "2022-07-26T19:16:06.917692Z"
    }
   },
   "outputs": [],
   "source": [
    "# Creating num_orders lag and ewm\n",
    "meal_2704 = create_sales_lag_feats(meal_2704,\n",
    "                              gpby_cols=['center_id', 'meal_id'],\n",
    "                              target_col='num_orders',\n",
    "                              lags=[10, 11, 12])\n",
    "meal_2704 = create_sales_ewm_feats(meal_2704,\n",
    "                              gpby_cols=['center_id', 'meal_id'],\n",
    "                              target_col='num_orders',\n",
    "                              alpha=[0.5],\n",
    "                              shift=[10, 11, 12, 13, 14, 15])"
   ]
  },
  {
   "cell_type": "code",
   "execution_count": 30,
   "id": "cbb4d4f4",
   "metadata": {
    "ExecuteTime": {
     "end_time": "2022-07-26T19:16:07.165723Z",
     "start_time": "2022-07-26T19:16:07.141691Z"
    }
   },
   "outputs": [],
   "source": [
    "# Creating num_orders lag and ewm\n",
    "meal_1878 = create_sales_lag_feats(meal_1878,\n",
    "                              gpby_cols=['center_id', 'meal_id'],\n",
    "                              target_col='num_orders',\n",
    "                              lags=[10, 11, 12])\n",
    "meal_1878 = create_sales_ewm_feats(meal_1878,\n",
    "                              gpby_cols=['center_id', 'meal_id'],\n",
    "                              target_col='num_orders',\n",
    "                              alpha=[0.5],\n",
    "                              shift=[10, 11, 12, 13, 14, 15])"
   ]
  },
  {
   "cell_type": "code",
   "execution_count": 31,
   "id": "e5b9fc73",
   "metadata": {
    "ExecuteTime": {
     "end_time": "2022-07-26T19:16:07.421693Z",
     "start_time": "2022-07-26T19:16:07.397692Z"
    }
   },
   "outputs": [],
   "source": [
    "# Creating num_orders lag and ewm\n",
    "meal_2640 = create_sales_lag_feats(meal_2640,\n",
    "                              gpby_cols=['center_id', 'meal_id'],\n",
    "                              target_col='num_orders',\n",
    "                              lags=[10, 11, 12])\n",
    "meal_2640 = create_sales_ewm_feats(meal_2640,\n",
    "                              gpby_cols=['center_id', 'meal_id'],\n",
    "                              target_col='num_orders',\n",
    "                              alpha=[0.5],\n",
    "                              shift=[10, 11, 12, 13, 14, 15])"
   ]
  },
  {
   "cell_type": "code",
   "execution_count": 32,
   "id": "fbb0e6aa",
   "metadata": {
    "ExecuteTime": {
     "end_time": "2022-07-26T19:16:07.693693Z",
     "start_time": "2022-07-26T19:16:07.669693Z"
    }
   },
   "outputs": [],
   "source": [
    "# Creating num_orders lag and ewm\n",
    "meal_2577 = create_sales_lag_feats(meal_2577,\n",
    "                              gpby_cols=['center_id', 'meal_id'],\n",
    "                              target_col='num_orders',\n",
    "                              lags=[10, 11, 12])\n",
    "meal_2577 = create_sales_ewm_feats(meal_2577,\n",
    "                              gpby_cols=['center_id', 'meal_id'],\n",
    "                              target_col='num_orders',\n",
    "                              alpha=[0.5],\n",
    "                              shift=[10, 11, 12, 13, 14, 15])"
   ]
  },
  {
   "cell_type": "code",
   "execution_count": 33,
   "id": "7f38c86a",
   "metadata": {
    "ExecuteTime": {
     "end_time": "2022-07-26T19:16:07.949692Z",
     "start_time": "2022-07-26T19:16:07.925698Z"
    }
   },
   "outputs": [],
   "source": [
    "# Creating num_orders lag and ewm\n",
    "meal_1754 = create_sales_lag_feats(meal_1754,\n",
    "                              gpby_cols=['center_id', 'meal_id'],\n",
    "                              target_col='num_orders',\n",
    "                              lags=[10, 11, 12])\n",
    "meal_1754 = create_sales_ewm_feats(meal_1754,\n",
    "                              gpby_cols=['center_id', 'meal_id'],\n",
    "                              target_col='num_orders',\n",
    "                              alpha=[0.5],\n",
    "                              shift=[10, 11, 12, 13, 14, 15])"
   ]
  },
  {
   "cell_type": "code",
   "execution_count": 34,
   "id": "cfbbed0d",
   "metadata": {
    "ExecuteTime": {
     "end_time": "2022-07-26T19:16:08.197694Z",
     "start_time": "2022-07-26T19:16:08.173726Z"
    }
   },
   "outputs": [],
   "source": [
    "# Creating num_orders lag and ewm\n",
    "meal_1971 = create_sales_lag_feats(meal_1971,\n",
    "                              gpby_cols=['center_id', 'meal_id'],\n",
    "                              target_col='num_orders',\n",
    "                              lags=[10, 11, 12])\n",
    "meal_1971 = create_sales_ewm_feats(meal_1971,\n",
    "                              gpby_cols=['center_id', 'meal_id'],\n",
    "                              target_col='num_orders',\n",
    "                              alpha=[0.5],\n",
    "                              shift=[10, 11, 12, 13, 14, 15])"
   ]
  },
  {
   "cell_type": "code",
   "execution_count": 35,
   "id": "eeca50a7",
   "metadata": {
    "ExecuteTime": {
     "end_time": "2022-07-26T19:16:08.453725Z",
     "start_time": "2022-07-26T19:16:08.430060Z"
    }
   },
   "outputs": [],
   "source": [
    "# Creating num_orders lag and ewm\n",
    "meal_2306 = create_sales_lag_feats(meal_2306,\n",
    "                              gpby_cols=['center_id', 'meal_id'],\n",
    "                              target_col='num_orders',\n",
    "                              lags=[10, 11, 12])\n",
    "meal_2306 = create_sales_ewm_feats(meal_2306,\n",
    "                              gpby_cols=['center_id', 'meal_id'],\n",
    "                              target_col='num_orders',\n",
    "                              alpha=[0.5],\n",
    "                              shift=[10, 11, 12, 13, 14, 15])"
   ]
  },
  {
   "cell_type": "code",
   "execution_count": 36,
   "id": "a7cc7ae9",
   "metadata": {
    "ExecuteTime": {
     "end_time": "2022-07-26T19:16:08.725693Z",
     "start_time": "2022-07-26T19:16:08.701693Z"
    }
   },
   "outputs": [],
   "source": [
    "# Creating num_orders lag and ewm\n",
    "meal_2139 = create_sales_lag_feats(meal_2139,\n",
    "                              gpby_cols=['center_id', 'meal_id'],\n",
    "                              target_col='num_orders',\n",
    "                              lags=[10, 11, 12])\n",
    "meal_2139 = create_sales_ewm_feats(meal_2139,\n",
    "                              gpby_cols=['center_id', 'meal_id'],\n",
    "                              target_col='num_orders',\n",
    "                              alpha=[0.5],\n",
    "                              shift=[10, 11, 12, 13, 14, 15])"
   ]
  },
  {
   "cell_type": "code",
   "execution_count": 37,
   "id": "5241b49a",
   "metadata": {
    "ExecuteTime": {
     "end_time": "2022-07-26T19:16:08.998123Z",
     "start_time": "2022-07-26T19:16:08.974126Z"
    }
   },
   "outputs": [],
   "source": [
    "# Creating num_orders lag and ewm\n",
    "meal_2826 = create_sales_lag_feats(meal_2826,\n",
    "                              gpby_cols=['center_id', 'meal_id'],\n",
    "                              target_col='num_orders',\n",
    "                              lags=[10, 11, 12])\n",
    "meal_2826 = create_sales_ewm_feats(meal_2826,\n",
    "                              gpby_cols=['center_id', 'meal_id'],\n",
    "                              target_col='num_orders',\n",
    "                              alpha=[0.5],\n",
    "                              shift=[10, 11, 12, 13, 14, 15])"
   ]
  },
  {
   "cell_type": "code",
   "execution_count": 38,
   "id": "ad43d844",
   "metadata": {
    "ExecuteTime": {
     "end_time": "2022-07-26T19:16:09.254122Z",
     "start_time": "2022-07-26T19:16:09.230122Z"
    }
   },
   "outputs": [],
   "source": [
    "# Creating num_orders lag and ewm\n",
    "meal_2664 = create_sales_lag_feats(meal_2664,\n",
    "                              gpby_cols=['center_id', 'meal_id'],\n",
    "                              target_col='num_orders',\n",
    "                              lags=[10, 11, 12])\n",
    "meal_2664 = create_sales_ewm_feats(meal_2664,\n",
    "                              gpby_cols=['center_id', 'meal_id'],\n",
    "                              target_col='num_orders',\n",
    "                              alpha=[0.5],\n",
    "                              shift=[10, 11, 12, 13, 14, 15])"
   ]
  },
  {
   "cell_type": "code",
   "execution_count": 39,
   "id": "c105496e",
   "metadata": {
    "ExecuteTime": {
     "end_time": "2022-07-26T19:16:09.512300Z",
     "start_time": "2022-07-26T19:16:09.488305Z"
    }
   },
   "outputs": [],
   "source": [
    "# Creating num_orders lag and ewm\n",
    "meal_2569 = create_sales_lag_feats(meal_2569,\n",
    "                              gpby_cols=['center_id', 'meal_id'],\n",
    "                              target_col='num_orders',\n",
    "                              lags=[10, 11, 12])\n",
    "meal_2569 = create_sales_ewm_feats(meal_2569,\n",
    "                              gpby_cols=['center_id', 'meal_id'],\n",
    "                              target_col='num_orders',\n",
    "                              alpha=[0.5],\n",
    "                              shift=[10, 11, 12, 13, 14, 15])"
   ]
  },
  {
   "cell_type": "code",
   "execution_count": 40,
   "id": "6852e250",
   "metadata": {
    "ExecuteTime": {
     "end_time": "2022-07-26T19:16:09.752301Z",
     "start_time": "2022-07-26T19:16:09.728300Z"
    }
   },
   "outputs": [],
   "source": [
    "# Creating num_orders lag and ewm\n",
    "meal_1230 = create_sales_lag_feats(meal_1230,\n",
    "                              gpby_cols=['center_id', 'meal_id'],\n",
    "                              target_col='num_orders',\n",
    "                              lags=[10, 11, 12])\n",
    "meal_1230 = create_sales_ewm_feats(meal_1230,\n",
    "                              gpby_cols=['center_id', 'meal_id'],\n",
    "                              target_col='num_orders',\n",
    "                              alpha=[0.5],\n",
    "                              shift=[10, 11, 12, 13, 14, 15])"
   ]
  },
  {
   "cell_type": "code",
   "execution_count": 41,
   "id": "05b0df63",
   "metadata": {
    "ExecuteTime": {
     "end_time": "2022-07-26T19:16:10.008348Z",
     "start_time": "2022-07-26T19:16:09.976314Z"
    }
   },
   "outputs": [],
   "source": [
    "# Creating num_orders lag and ewm\n",
    "meal_1207 = create_sales_lag_feats(meal_1207,\n",
    "                              gpby_cols=['center_id', 'meal_id'],\n",
    "                              target_col='num_orders',\n",
    "                              lags=[10, 11, 12])\n",
    "meal_1207 = create_sales_ewm_feats(meal_1207,\n",
    "                              gpby_cols=['center_id', 'meal_id'],\n",
    "                              target_col='num_orders',\n",
    "                              alpha=[0.5],\n",
    "                              shift=[10, 11, 12, 13, 14, 15])"
   ]
  },
  {
   "cell_type": "code",
   "execution_count": 42,
   "id": "ef216d99",
   "metadata": {
    "ExecuteTime": {
     "end_time": "2022-07-26T19:16:10.267540Z",
     "start_time": "2022-07-26T19:16:10.236123Z"
    }
   },
   "outputs": [],
   "source": [
    "# Creating num_orders lag and ewm\n",
    "meal_2322 = create_sales_lag_feats(meal_2322,\n",
    "                              gpby_cols=['center_id', 'meal_id'],\n",
    "                              target_col='num_orders',\n",
    "                              lags=[10, 11, 12])\n",
    "meal_2322 = create_sales_ewm_feats(meal_2322,\n",
    "                              gpby_cols=['center_id', 'meal_id'],\n",
    "                              target_col='num_orders',\n",
    "                              alpha=[0.5],\n",
    "                              shift=[10, 11, 12, 13, 14, 15])"
   ]
  },
  {
   "cell_type": "code",
   "execution_count": 43,
   "id": "2b3f3446",
   "metadata": {
    "ExecuteTime": {
     "end_time": "2022-07-26T19:16:10.515969Z",
     "start_time": "2022-07-26T19:16:10.491954Z"
    }
   },
   "outputs": [],
   "source": [
    "# Creating num_orders lag and ewm\n",
    "meal_2492 = create_sales_lag_feats(meal_2492,\n",
    "                              gpby_cols=['center_id', 'meal_id'],\n",
    "                              target_col='num_orders',\n",
    "                              lags=[10, 11, 12])\n",
    "meal_2492 = create_sales_ewm_feats(meal_2492,\n",
    "                              gpby_cols=['center_id', 'meal_id'],\n",
    "                              target_col='num_orders',\n",
    "                              alpha=[0.5],\n",
    "                              shift=[10, 11, 12, 13, 14, 15])"
   ]
  },
  {
   "cell_type": "code",
   "execution_count": 44,
   "id": "8789f282",
   "metadata": {
    "ExecuteTime": {
     "end_time": "2022-07-26T19:16:10.795957Z",
     "start_time": "2022-07-26T19:16:10.763954Z"
    }
   },
   "outputs": [],
   "source": [
    "# Creating num_orders lag and ewm\n",
    "meal_1216 = create_sales_lag_feats(meal_1216,\n",
    "                              gpby_cols=['center_id', 'meal_id'],\n",
    "                              target_col='num_orders',\n",
    "                              lags=[10, 11, 12])\n",
    "meal_1216 = create_sales_ewm_feats(meal_1216,\n",
    "                              gpby_cols=['center_id', 'meal_id'],\n",
    "                              target_col='num_orders',\n",
    "                              alpha=[0.5],\n",
    "                              shift=[10, 11, 12, 13, 14, 15])"
   ]
  },
  {
   "cell_type": "code",
   "execution_count": 45,
   "id": "5a615929",
   "metadata": {
    "ExecuteTime": {
     "end_time": "2022-07-26T19:16:11.061732Z",
     "start_time": "2022-07-26T19:16:11.029706Z"
    }
   },
   "outputs": [],
   "source": [
    "# Creating num_orders lag and ewm\n",
    "meal_1727 = create_sales_lag_feats(meal_1727,\n",
    "                              gpby_cols=['center_id', 'meal_id'],\n",
    "                              target_col='num_orders',\n",
    "                              lags=[10, 11, 12])\n",
    "meal_1727 = create_sales_ewm_feats(meal_1727,\n",
    "                              gpby_cols=['center_id', 'meal_id'],\n",
    "                              target_col='num_orders',\n",
    "                              alpha=[0.5],\n",
    "                              shift=[10, 11, 12, 13, 14, 15])"
   ]
  },
  {
   "cell_type": "code",
   "execution_count": 46,
   "id": "6ccd6b35",
   "metadata": {
    "ExecuteTime": {
     "end_time": "2022-07-26T19:16:11.285740Z",
     "start_time": "2022-07-26T19:16:11.261722Z"
    }
   },
   "outputs": [],
   "source": [
    "# Creating num_orders lag and ewm\n",
    "meal_1902 = create_sales_lag_feats(meal_1902,\n",
    "                              gpby_cols=['center_id', 'meal_id'],\n",
    "                              target_col='num_orders',\n",
    "                              lags=[10, 11, 12])\n",
    "meal_1902 = create_sales_ewm_feats(meal_1902,\n",
    "                              gpby_cols=['center_id', 'meal_id'],\n",
    "                              target_col='num_orders',\n",
    "                              alpha=[0.5],\n",
    "                              shift=[10, 11, 12, 13, 14, 15])"
   ]
  },
  {
   "cell_type": "code",
   "execution_count": 47,
   "id": "2a2409b4",
   "metadata": {
    "ExecuteTime": {
     "end_time": "2022-07-26T19:16:11.549706Z",
     "start_time": "2022-07-26T19:16:11.525739Z"
    }
   },
   "outputs": [],
   "source": [
    "# Creating num_orders lag and ewm\n",
    "meal_1247 = create_sales_lag_feats(meal_1247,\n",
    "                              gpby_cols=['center_id', 'meal_id'],\n",
    "                              target_col='num_orders',\n",
    "                              lags=[10, 11, 12])\n",
    "meal_1247 = create_sales_ewm_feats(meal_1247,\n",
    "                              gpby_cols=['center_id', 'meal_id'],\n",
    "                              target_col='num_orders',\n",
    "                              alpha=[0.5],\n",
    "                              shift=[10, 11, 12, 13, 14, 15])"
   ]
  },
  {
   "cell_type": "code",
   "execution_count": 48,
   "id": "6715d151",
   "metadata": {
    "ExecuteTime": {
     "end_time": "2022-07-26T19:16:12.061155Z",
     "start_time": "2022-07-26T19:16:12.037155Z"
    }
   },
   "outputs": [],
   "source": [
    "# Creating num_orders lag and ewm\n",
    "meal_2304 = create_sales_lag_feats(meal_2304,\n",
    "                              gpby_cols=['center_id', 'meal_id'],\n",
    "                              target_col='num_orders',\n",
    "                              lags=[10, 11, 12])\n",
    "meal_2304 = create_sales_ewm_feats(meal_2304,\n",
    "                              gpby_cols=['center_id', 'meal_id'],\n",
    "                              target_col='num_orders',\n",
    "                              alpha=[0.5],\n",
    "                              shift=[10, 11, 12, 13, 14, 15])"
   ]
  },
  {
   "cell_type": "code",
   "execution_count": 49,
   "id": "b545d91f",
   "metadata": {
    "ExecuteTime": {
     "end_time": "2022-07-26T19:16:12.373192Z",
     "start_time": "2022-07-26T19:16:12.341190Z"
    }
   },
   "outputs": [],
   "source": [
    "# Creating num_orders lag and ewm\n",
    "meal_1543 = create_sales_lag_feats(meal_1543,\n",
    "                              gpby_cols=['center_id', 'meal_id'],\n",
    "                              target_col='num_orders',\n",
    "                              lags=[10, 11, 12])\n",
    "meal_1543 = create_sales_ewm_feats(meal_1543,\n",
    "                              gpby_cols=['center_id', 'meal_id'],\n",
    "                              target_col='num_orders',\n",
    "                              alpha=[0.5],\n",
    "                              shift=[10, 11, 12, 13, 14, 15])"
   ]
  },
  {
   "cell_type": "code",
   "execution_count": 50,
   "id": "29d29d65",
   "metadata": {
    "ExecuteTime": {
     "end_time": "2022-07-26T19:16:12.655148Z",
     "start_time": "2022-07-26T19:16:12.639115Z"
    }
   },
   "outputs": [],
   "source": [
    "# Creating num_orders lag and ewm\n",
    "meal_1770 = create_sales_lag_feats(meal_1770,\n",
    "                              gpby_cols=['center_id', 'meal_id'],\n",
    "                              target_col='num_orders',\n",
    "                              lags=[10, 11, 12])\n",
    "meal_1770 = create_sales_ewm_feats(meal_1770,\n",
    "                              gpby_cols=['center_id', 'meal_id'],\n",
    "                              target_col='num_orders',\n",
    "                              alpha=[0.5],\n",
    "                              shift=[10, 11, 12, 13, 14, 15])"
   ]
  },
  {
   "cell_type": "code",
   "execution_count": 51,
   "id": "91181fed",
   "metadata": {
    "ExecuteTime": {
     "end_time": "2022-07-26T19:16:13.023574Z",
     "start_time": "2022-07-26T19:16:12.999573Z"
    }
   },
   "outputs": [],
   "source": [
    "# Creating num_orders lag and ewm\n",
    "meal_2126 = create_sales_lag_feats(meal_2126,\n",
    "                              gpby_cols=['center_id', 'meal_id'],\n",
    "                              target_col='num_orders',\n",
    "                              lags=[10, 11, 12])\n",
    "meal_2126 = create_sales_ewm_feats(meal_2126,\n",
    "                              gpby_cols=['center_id', 'meal_id'],\n",
    "                              target_col='num_orders',\n",
    "                              alpha=[0.5],\n",
    "                              shift=[10, 11, 12, 13, 14, 15])"
   ]
  },
  {
   "cell_type": "code",
   "execution_count": 52,
   "id": "59990322",
   "metadata": {
    "ExecuteTime": {
     "end_time": "2022-07-26T19:16:13.327592Z",
     "start_time": "2022-07-26T19:16:13.295574Z"
    }
   },
   "outputs": [],
   "source": [
    "# Creating num_orders lag and ewm\n",
    "meal_1558 = create_sales_lag_feats(meal_1558,\n",
    "                              gpby_cols=['center_id', 'meal_id'],\n",
    "                              target_col='num_orders',\n",
    "                              lags=[10, 11, 12])\n",
    "meal_1558 = create_sales_ewm_feats(meal_1558,\n",
    "                              gpby_cols=['center_id', 'meal_id'],\n",
    "                              target_col='num_orders',\n",
    "                              alpha=[0.5],\n",
    "                              shift=[10, 11, 12, 13, 14, 15])"
   ]
  },
  {
   "cell_type": "code",
   "execution_count": 53,
   "id": "66c9900d",
   "metadata": {
    "ExecuteTime": {
     "end_time": "2022-07-26T19:16:13.650553Z",
     "start_time": "2022-07-26T19:16:13.626552Z"
    }
   },
   "outputs": [],
   "source": [
    "# Creating num_orders lag and ewm\n",
    "meal_2581 = create_sales_lag_feats(meal_2581,\n",
    "                              gpby_cols=['center_id', 'meal_id'],\n",
    "                              target_col='num_orders',\n",
    "                              lags=[10, 11, 12])\n",
    "meal_2581 = create_sales_ewm_feats(meal_2581,\n",
    "                              gpby_cols=['center_id', 'meal_id'],\n",
    "                              target_col='num_orders',\n",
    "                              alpha=[0.5],\n",
    "                              shift=[10, 11, 12, 13, 14, 15])"
   ]
  },
  {
   "cell_type": "code",
   "execution_count": 54,
   "id": "89e1a763",
   "metadata": {
    "ExecuteTime": {
     "end_time": "2022-07-26T19:16:13.955772Z",
     "start_time": "2022-07-26T19:16:13.931802Z"
    }
   },
   "outputs": [],
   "source": [
    "# Creating num_orders lag and ewm\n",
    "meal_1962 = create_sales_lag_feats(meal_1962,\n",
    "                              gpby_cols=['center_id', 'meal_id'],\n",
    "                              target_col='num_orders',\n",
    "                              lags=[10, 11, 12])\n",
    "meal_1962 = create_sales_ewm_feats(meal_1962,\n",
    "                              gpby_cols=['center_id', 'meal_id'],\n",
    "                              target_col='num_orders',\n",
    "                              alpha=[0.5],\n",
    "                              shift=[10, 11, 12, 13, 14, 15])"
   ]
  },
  {
   "cell_type": "code",
   "execution_count": 55,
   "id": "45a095d3",
   "metadata": {
    "ExecuteTime": {
     "end_time": "2022-07-26T19:16:14.260449Z",
     "start_time": "2022-07-26T19:16:14.228457Z"
    }
   },
   "outputs": [],
   "source": [
    "# Creating num_orders lag and ewm\n",
    "meal_1571 = create_sales_lag_feats(meal_1571,\n",
    "                              gpby_cols=['center_id', 'meal_id'],\n",
    "                              target_col='num_orders',\n",
    "                              lags=[10, 11, 12])\n",
    "meal_1571 = create_sales_ewm_feats(meal_1571,\n",
    "                              gpby_cols=['center_id', 'meal_id'],\n",
    "                              target_col='num_orders',\n",
    "                              alpha=[0.5],\n",
    "                              shift=[10, 11, 12, 13, 14, 15])"
   ]
  },
  {
   "cell_type": "code",
   "execution_count": 56,
   "id": "0a71fd2b",
   "metadata": {
    "ExecuteTime": {
     "end_time": "2022-07-26T19:16:14.735177Z",
     "start_time": "2022-07-26T19:16:14.711178Z"
    }
   },
   "outputs": [],
   "source": [
    "# Creating num_orders lag and ewm\n",
    "meal_2956 = create_sales_lag_feats(meal_2956,\n",
    "                              gpby_cols=['center_id', 'meal_id'],\n",
    "                              target_col='num_orders',\n",
    "                              lags=[10, 11, 12])\n",
    "meal_2956 = create_sales_ewm_feats(meal_2956,\n",
    "                              gpby_cols=['center_id', 'meal_id'],\n",
    "                              target_col='num_orders',\n",
    "                              alpha=[0.5],\n",
    "                              shift=[10, 11, 12, 13, 14, 15])"
   ]
  },
  {
   "cell_type": "code",
   "execution_count": 57,
   "id": "0861906a",
   "metadata": {
    "ExecuteTime": {
     "end_time": "2022-07-26T19:16:15.065088Z",
     "start_time": "2022-07-26T19:16:15.041085Z"
    }
   },
   "outputs": [],
   "source": [
    "# Creating num_orders lag and ewm\n",
    "meal_2104 = create_sales_lag_feats(meal_2104,\n",
    "                              gpby_cols=['center_id', 'meal_id'],\n",
    "                              target_col='num_orders',\n",
    "                              lags=[10, 11, 12])\n",
    "meal_2104 = create_sales_ewm_feats(meal_2104,\n",
    "                              gpby_cols=['center_id', 'meal_id'],\n",
    "                              target_col='num_orders',\n",
    "                              alpha=[0.5],\n",
    "                              shift=[10, 11, 12, 13, 14, 15])"
   ]
  },
  {
   "cell_type": "code",
   "execution_count": 58,
   "id": "f69433c5",
   "metadata": {
    "ExecuteTime": {
     "end_time": "2022-07-26T19:16:15.465298Z",
     "start_time": "2022-07-26T19:16:15.425295Z"
    }
   },
   "outputs": [],
   "source": [
    "# Creating num_orders lag and ewm\n",
    "meal_2444 = create_sales_lag_feats(meal_2444,\n",
    "                              gpby_cols=['center_id', 'meal_id'],\n",
    "                              target_col='num_orders',\n",
    "                              lags=[10, 11, 12])\n",
    "meal_2444 = create_sales_ewm_feats(meal_2444,\n",
    "                              gpby_cols=['center_id', 'meal_id'],\n",
    "                              target_col='num_orders',\n",
    "                              alpha=[0.5],\n",
    "                              shift=[10, 11, 12, 13, 14, 15])"
   ]
  },
  {
   "cell_type": "code",
   "execution_count": 59,
   "id": "691f5da9",
   "metadata": {
    "ExecuteTime": {
     "end_time": "2022-07-26T19:16:15.794114Z",
     "start_time": "2022-07-26T19:16:15.770114Z"
    }
   },
   "outputs": [],
   "source": [
    "# Creating num_orders lag and ewm\n",
    "meal_2867 = create_sales_lag_feats(meal_2867,\n",
    "                              gpby_cols=['center_id', 'meal_id'],\n",
    "                              target_col='num_orders',\n",
    "                              lags=[10, 11, 12])\n",
    "meal_2867 = create_sales_ewm_feats(meal_2867,\n",
    "                              gpby_cols=['center_id', 'meal_id'],\n",
    "                              target_col='num_orders',\n",
    "                              alpha=[0.5],\n",
    "                              shift=[10, 11, 12, 13, 14, 15])"
   ]
  },
  {
   "cell_type": "code",
   "execution_count": 60,
   "id": "a4c29d7e",
   "metadata": {
    "ExecuteTime": {
     "end_time": "2022-07-26T19:16:16.139549Z",
     "start_time": "2022-07-26T19:16:16.115548Z"
    }
   },
   "outputs": [],
   "source": [
    "# Creating num_orders lag and ewm\n",
    "meal_1445 = create_sales_lag_feats(meal_1445,\n",
    "                              gpby_cols=['center_id', 'meal_id'],\n",
    "                              target_col='num_orders',\n",
    "                              lags=[10, 11, 12])\n",
    "meal_1445 = create_sales_ewm_feats(meal_1445,\n",
    "                              gpby_cols=['center_id', 'meal_id'],\n",
    "                              target_col='num_orders',\n",
    "                              alpha=[0.5],\n",
    "                              shift=[10, 11, 12, 13, 14, 15])"
   ]
  },
  {
   "cell_type": "code",
   "execution_count": 61,
   "id": "9347ee70",
   "metadata": {
    "ExecuteTime": {
     "end_time": "2022-07-26T19:16:16.917578Z",
     "start_time": "2022-07-26T19:16:16.806957Z"
    }
   },
   "outputs": [],
   "source": [
    "total_data = pd.concat(objs=[\n",
    "    meal_1885, \n",
    "    meal_1993,\n",
    "    meal_2539, \n",
    "    meal_1248, \n",
    "    meal_2631, \n",
    "    meal_1311, \n",
    "    meal_1062,\n",
    "    meal_1778,\n",
    "    meal_1803,\n",
    "    meal_1198,\n",
    "    meal_2707,\n",
    "    meal_1847,\n",
    "    meal_1438,\n",
    "    meal_2494,\n",
    "    meal_2760,\n",
    "    meal_2490,\n",
    "    meal_1109,\n",
    "    meal_2290,\n",
    "    meal_1525,\n",
    "    meal_2704,\n",
    "    meal_1878,\n",
    "    meal_2640,\n",
    "    meal_2577,\n",
    "    meal_1754,\n",
    "    meal_1971,\n",
    "    meal_2306,\n",
    "    meal_2139,\n",
    "    meal_2826,\n",
    "    meal_2664,\n",
    "    meal_2569,\n",
    "    meal_1230,\n",
    "    meal_1207,\n",
    "    meal_2322,\n",
    "    meal_2492,\n",
    "    meal_1216,\n",
    "    meal_1727,\n",
    "    meal_1902,\n",
    "    meal_1247,\n",
    "    meal_2304,\n",
    "    meal_1543,\n",
    "    meal_1770,\n",
    "    meal_2126,\n",
    "    meal_1558,\n",
    "    meal_2581,\n",
    "    meal_1962,\n",
    "    meal_1571,\n",
    "    meal_2956,\n",
    "    meal_2104,\n",
    "    meal_2444,\n",
    "    meal_2867,\n",
    "    meal_1445\n",
    "],\n",
    "                       axis=0,\n",
    "                       ignore_index=False)"
   ]
  },
  {
   "cell_type": "code",
   "execution_count": 62,
   "id": "a44b7e78",
   "metadata": {
    "ExecuteTime": {
     "end_time": "2022-07-26T19:16:18.020722Z",
     "start_time": "2022-07-26T19:16:17.853746Z"
    }
   },
   "outputs": [
    {
     "data": {
      "text/html": [
       "<div>\n",
       "<style scoped>\n",
       "    .dataframe tbody tr th:only-of-type {\n",
       "        vertical-align: middle;\n",
       "    }\n",
       "\n",
       "    .dataframe tbody tr th {\n",
       "        vertical-align: top;\n",
       "    }\n",
       "\n",
       "    .dataframe thead th {\n",
       "        text-align: right;\n",
       "    }\n",
       "</style>\n",
       "<table border=\"1\" class=\"dataframe\">\n",
       "  <thead>\n",
       "    <tr style=\"text-align: right;\">\n",
       "      <th></th>\n",
       "      <th>id</th>\n",
       "      <th>week</th>\n",
       "      <th>center_id</th>\n",
       "      <th>meal_id</th>\n",
       "      <th>checkout_price</th>\n",
       "      <th>base_price</th>\n",
       "      <th>emailer_for_promotion</th>\n",
       "      <th>homepage_featured</th>\n",
       "      <th>num_orders</th>\n",
       "      <th>city_code</th>\n",
       "      <th>...</th>\n",
       "      <th>cuisine</th>\n",
       "      <th>num_orders_lag_10</th>\n",
       "      <th>num_orders_lag_11</th>\n",
       "      <th>num_orders_lag_12</th>\n",
       "      <th>num_orders_lag_10_ewm_0.5</th>\n",
       "      <th>num_orders_lag_11_ewm_0.5</th>\n",
       "      <th>num_orders_lag_12_ewm_0.5</th>\n",
       "      <th>num_orders_lag_13_ewm_0.5</th>\n",
       "      <th>num_orders_lag_14_ewm_0.5</th>\n",
       "      <th>num_orders_lag_15_ewm_0.5</th>\n",
       "    </tr>\n",
       "  </thead>\n",
       "  <tbody>\n",
       "    <tr>\n",
       "      <th>2363</th>\n",
       "      <td>1350578</td>\n",
       "      <td>1</td>\n",
       "      <td>10</td>\n",
       "      <td>1885</td>\n",
       "      <td>135.86</td>\n",
       "      <td>133.86</td>\n",
       "      <td>0</td>\n",
       "      <td>0</td>\n",
       "      <td>1673.0</td>\n",
       "      <td>590</td>\n",
       "      <td>...</td>\n",
       "      <td>Thai</td>\n",
       "      <td>NaN</td>\n",
       "      <td>NaN</td>\n",
       "      <td>NaN</td>\n",
       "      <td>NaN</td>\n",
       "      <td>NaN</td>\n",
       "      <td>NaN</td>\n",
       "      <td>NaN</td>\n",
       "      <td>NaN</td>\n",
       "      <td>NaN</td>\n",
       "    </tr>\n",
       "    <tr>\n",
       "      <th>5266</th>\n",
       "      <td>1117493</td>\n",
       "      <td>2</td>\n",
       "      <td>10</td>\n",
       "      <td>1885</td>\n",
       "      <td>134.86</td>\n",
       "      <td>135.86</td>\n",
       "      <td>0</td>\n",
       "      <td>0</td>\n",
       "      <td>1485.0</td>\n",
       "      <td>590</td>\n",
       "      <td>...</td>\n",
       "      <td>Thai</td>\n",
       "      <td>NaN</td>\n",
       "      <td>NaN</td>\n",
       "      <td>NaN</td>\n",
       "      <td>NaN</td>\n",
       "      <td>NaN</td>\n",
       "      <td>NaN</td>\n",
       "      <td>NaN</td>\n",
       "      <td>NaN</td>\n",
       "      <td>NaN</td>\n",
       "    </tr>\n",
       "    <tr>\n",
       "      <th>8168</th>\n",
       "      <td>1216272</td>\n",
       "      <td>3</td>\n",
       "      <td>10</td>\n",
       "      <td>1885</td>\n",
       "      <td>135.86</td>\n",
       "      <td>135.86</td>\n",
       "      <td>0</td>\n",
       "      <td>0</td>\n",
       "      <td>1796.0</td>\n",
       "      <td>590</td>\n",
       "      <td>...</td>\n",
       "      <td>Thai</td>\n",
       "      <td>NaN</td>\n",
       "      <td>NaN</td>\n",
       "      <td>NaN</td>\n",
       "      <td>NaN</td>\n",
       "      <td>NaN</td>\n",
       "      <td>NaN</td>\n",
       "      <td>NaN</td>\n",
       "      <td>NaN</td>\n",
       "      <td>NaN</td>\n",
       "    </tr>\n",
       "    <tr>\n",
       "      <th>11057</th>\n",
       "      <td>1477187</td>\n",
       "      <td>4</td>\n",
       "      <td>10</td>\n",
       "      <td>1885</td>\n",
       "      <td>134.86</td>\n",
       "      <td>134.86</td>\n",
       "      <td>0</td>\n",
       "      <td>0</td>\n",
       "      <td>1648.0</td>\n",
       "      <td>590</td>\n",
       "      <td>...</td>\n",
       "      <td>Thai</td>\n",
       "      <td>NaN</td>\n",
       "      <td>NaN</td>\n",
       "      <td>NaN</td>\n",
       "      <td>NaN</td>\n",
       "      <td>NaN</td>\n",
       "      <td>NaN</td>\n",
       "      <td>NaN</td>\n",
       "      <td>NaN</td>\n",
       "      <td>NaN</td>\n",
       "    </tr>\n",
       "    <tr>\n",
       "      <th>13911</th>\n",
       "      <td>1170635</td>\n",
       "      <td>5</td>\n",
       "      <td>10</td>\n",
       "      <td>1885</td>\n",
       "      <td>143.56</td>\n",
       "      <td>145.56</td>\n",
       "      <td>0</td>\n",
       "      <td>0</td>\n",
       "      <td>1403.0</td>\n",
       "      <td>590</td>\n",
       "      <td>...</td>\n",
       "      <td>Thai</td>\n",
       "      <td>NaN</td>\n",
       "      <td>NaN</td>\n",
       "      <td>NaN</td>\n",
       "      <td>NaN</td>\n",
       "      <td>NaN</td>\n",
       "      <td>NaN</td>\n",
       "      <td>NaN</td>\n",
       "      <td>NaN</td>\n",
       "      <td>NaN</td>\n",
       "    </tr>\n",
       "    <tr>\n",
       "      <th>...</th>\n",
       "      <td>...</td>\n",
       "      <td>...</td>\n",
       "      <td>...</td>\n",
       "      <td>...</td>\n",
       "      <td>...</td>\n",
       "      <td>...</td>\n",
       "      <td>...</td>\n",
       "      <td>...</td>\n",
       "      <td>...</td>\n",
       "      <td>...</td>\n",
       "      <td>...</td>\n",
       "      <td>...</td>\n",
       "      <td>...</td>\n",
       "      <td>...</td>\n",
       "      <td>...</td>\n",
       "      <td>...</td>\n",
       "      <td>...</td>\n",
       "      <td>...</td>\n",
       "      <td>...</td>\n",
       "      <td>...</td>\n",
       "      <td>...</td>\n",
       "    </tr>\n",
       "    <tr>\n",
       "      <th>470134</th>\n",
       "      <td>1128793</td>\n",
       "      <td>150</td>\n",
       "      <td>186</td>\n",
       "      <td>1445</td>\n",
       "      <td>727.53</td>\n",
       "      <td>727.53</td>\n",
       "      <td>0</td>\n",
       "      <td>0</td>\n",
       "      <td>NaN</td>\n",
       "      <td>649</td>\n",
       "      <td>...</td>\n",
       "      <td>Continental</td>\n",
       "      <td>95.0</td>\n",
       "      <td>53.0</td>\n",
       "      <td>54.0</td>\n",
       "      <td>75.864059</td>\n",
       "      <td>56.728118</td>\n",
       "      <td>60.456236</td>\n",
       "      <td>66.912473</td>\n",
       "      <td>38.824945</td>\n",
       "      <td>36.649891</td>\n",
       "    </tr>\n",
       "    <tr>\n",
       "      <th>473404</th>\n",
       "      <td>1385567</td>\n",
       "      <td>151</td>\n",
       "      <td>186</td>\n",
       "      <td>1445</td>\n",
       "      <td>726.53</td>\n",
       "      <td>727.53</td>\n",
       "      <td>0</td>\n",
       "      <td>0</td>\n",
       "      <td>NaN</td>\n",
       "      <td>649</td>\n",
       "      <td>...</td>\n",
       "      <td>Continental</td>\n",
       "      <td>26.0</td>\n",
       "      <td>95.0</td>\n",
       "      <td>53.0</td>\n",
       "      <td>50.932030</td>\n",
       "      <td>75.864059</td>\n",
       "      <td>56.728118</td>\n",
       "      <td>60.456236</td>\n",
       "      <td>66.912473</td>\n",
       "      <td>38.824945</td>\n",
       "    </tr>\n",
       "    <tr>\n",
       "      <th>476633</th>\n",
       "      <td>1261731</td>\n",
       "      <td>152</td>\n",
       "      <td>186</td>\n",
       "      <td>1445</td>\n",
       "      <td>726.53</td>\n",
       "      <td>727.53</td>\n",
       "      <td>0</td>\n",
       "      <td>0</td>\n",
       "      <td>NaN</td>\n",
       "      <td>649</td>\n",
       "      <td>...</td>\n",
       "      <td>Continental</td>\n",
       "      <td>26.0</td>\n",
       "      <td>26.0</td>\n",
       "      <td>95.0</td>\n",
       "      <td>38.466015</td>\n",
       "      <td>50.932030</td>\n",
       "      <td>75.864059</td>\n",
       "      <td>56.728118</td>\n",
       "      <td>60.456236</td>\n",
       "      <td>66.912473</td>\n",
       "    </tr>\n",
       "    <tr>\n",
       "      <th>479874</th>\n",
       "      <td>1401816</td>\n",
       "      <td>153</td>\n",
       "      <td>186</td>\n",
       "      <td>1445</td>\n",
       "      <td>727.53</td>\n",
       "      <td>727.53</td>\n",
       "      <td>0</td>\n",
       "      <td>0</td>\n",
       "      <td>NaN</td>\n",
       "      <td>649</td>\n",
       "      <td>...</td>\n",
       "      <td>Continental</td>\n",
       "      <td>14.0</td>\n",
       "      <td>26.0</td>\n",
       "      <td>26.0</td>\n",
       "      <td>26.233007</td>\n",
       "      <td>38.466015</td>\n",
       "      <td>50.932030</td>\n",
       "      <td>75.864059</td>\n",
       "      <td>56.728118</td>\n",
       "      <td>60.456236</td>\n",
       "    </tr>\n",
       "    <tr>\n",
       "      <th>483147</th>\n",
       "      <td>1088743</td>\n",
       "      <td>154</td>\n",
       "      <td>186</td>\n",
       "      <td>1445</td>\n",
       "      <td>679.03</td>\n",
       "      <td>679.03</td>\n",
       "      <td>0</td>\n",
       "      <td>0</td>\n",
       "      <td>NaN</td>\n",
       "      <td>649</td>\n",
       "      <td>...</td>\n",
       "      <td>Continental</td>\n",
       "      <td>14.0</td>\n",
       "      <td>14.0</td>\n",
       "      <td>26.0</td>\n",
       "      <td>20.116504</td>\n",
       "      <td>26.233007</td>\n",
       "      <td>38.466015</td>\n",
       "      <td>50.932030</td>\n",
       "      <td>75.864059</td>\n",
       "      <td>56.728118</td>\n",
       "    </tr>\n",
       "  </tbody>\n",
       "</table>\n",
       "<p>489120 rows × 24 columns</p>\n",
       "</div>"
      ],
      "text/plain": [
       "             id  week  center_id  meal_id  checkout_price  base_price  \\\n",
       "2363    1350578     1         10     1885          135.86      133.86   \n",
       "5266    1117493     2         10     1885          134.86      135.86   \n",
       "8168    1216272     3         10     1885          135.86      135.86   \n",
       "11057   1477187     4         10     1885          134.86      134.86   \n",
       "13911   1170635     5         10     1885          143.56      145.56   \n",
       "...         ...   ...        ...      ...             ...         ...   \n",
       "470134  1128793   150        186     1445          727.53      727.53   \n",
       "473404  1385567   151        186     1445          726.53      727.53   \n",
       "476633  1261731   152        186     1445          726.53      727.53   \n",
       "479874  1401816   153        186     1445          727.53      727.53   \n",
       "483147  1088743   154        186     1445          679.03      679.03   \n",
       "\n",
       "        emailer_for_promotion  homepage_featured  num_orders  city_code  ...  \\\n",
       "2363                        0                  0      1673.0        590  ...   \n",
       "5266                        0                  0      1485.0        590  ...   \n",
       "8168                        0                  0      1796.0        590  ...   \n",
       "11057                       0                  0      1648.0        590  ...   \n",
       "13911                       0                  0      1403.0        590  ...   \n",
       "...                       ...                ...         ...        ...  ...   \n",
       "470134                      0                  0         NaN        649  ...   \n",
       "473404                      0                  0         NaN        649  ...   \n",
       "476633                      0                  0         NaN        649  ...   \n",
       "479874                      0                  0         NaN        649  ...   \n",
       "483147                      0                  0         NaN        649  ...   \n",
       "\n",
       "            cuisine num_orders_lag_10  num_orders_lag_11 num_orders_lag_12  \\\n",
       "2363           Thai               NaN                NaN               NaN   \n",
       "5266           Thai               NaN                NaN               NaN   \n",
       "8168           Thai               NaN                NaN               NaN   \n",
       "11057          Thai               NaN                NaN               NaN   \n",
       "13911          Thai               NaN                NaN               NaN   \n",
       "...             ...               ...                ...               ...   \n",
       "470134  Continental              95.0               53.0              54.0   \n",
       "473404  Continental              26.0               95.0              53.0   \n",
       "476633  Continental              26.0               26.0              95.0   \n",
       "479874  Continental              14.0               26.0              26.0   \n",
       "483147  Continental              14.0               14.0              26.0   \n",
       "\n",
       "       num_orders_lag_10_ewm_0.5  num_orders_lag_11_ewm_0.5  \\\n",
       "2363                         NaN                        NaN   \n",
       "5266                         NaN                        NaN   \n",
       "8168                         NaN                        NaN   \n",
       "11057                        NaN                        NaN   \n",
       "13911                        NaN                        NaN   \n",
       "...                          ...                        ...   \n",
       "470134                 75.864059                  56.728118   \n",
       "473404                 50.932030                  75.864059   \n",
       "476633                 38.466015                  50.932030   \n",
       "479874                 26.233007                  38.466015   \n",
       "483147                 20.116504                  26.233007   \n",
       "\n",
       "        num_orders_lag_12_ewm_0.5  num_orders_lag_13_ewm_0.5  \\\n",
       "2363                          NaN                        NaN   \n",
       "5266                          NaN                        NaN   \n",
       "8168                          NaN                        NaN   \n",
       "11057                         NaN                        NaN   \n",
       "13911                         NaN                        NaN   \n",
       "...                           ...                        ...   \n",
       "470134                  60.456236                  66.912473   \n",
       "473404                  56.728118                  60.456236   \n",
       "476633                  75.864059                  56.728118   \n",
       "479874                  50.932030                  75.864059   \n",
       "483147                  38.466015                  50.932030   \n",
       "\n",
       "        num_orders_lag_14_ewm_0.5  num_orders_lag_15_ewm_0.5  \n",
       "2363                          NaN                        NaN  \n",
       "5266                          NaN                        NaN  \n",
       "8168                          NaN                        NaN  \n",
       "11057                         NaN                        NaN  \n",
       "13911                         NaN                        NaN  \n",
       "...                           ...                        ...  \n",
       "470134                  38.824945                  36.649891  \n",
       "473404                  66.912473                  38.824945  \n",
       "476633                  60.456236                  66.912473  \n",
       "479874                  56.728118                  60.456236  \n",
       "483147                  75.864059                  56.728118  \n",
       "\n",
       "[489120 rows x 24 columns]"
      ]
     },
     "execution_count": 62,
     "metadata": {},
     "output_type": "execute_result"
    }
   ],
   "source": [
    "total_data"
   ]
  },
  {
   "cell_type": "code",
   "execution_count": 63,
   "id": "4f8e1cde",
   "metadata": {},
   "outputs": [
    {
     "name": "stdout",
     "output_type": "stream",
     "text": [
      "<class 'pandas.core.frame.DataFrame'>\n",
      "Int64Index: 489120 entries, 2363 to 483147\n",
      "Data columns (total 24 columns):\n",
      " #   Column                     Non-Null Count   Dtype  \n",
      "---  ------                     --------------   -----  \n",
      " 0   id                         489120 non-null  int64  \n",
      " 1   week                       489120 non-null  int64  \n",
      " 2   center_id                  489120 non-null  int64  \n",
      " 3   meal_id                    489120 non-null  int64  \n",
      " 4   checkout_price             489120 non-null  float64\n",
      " 5   base_price                 489120 non-null  float64\n",
      " 6   emailer_for_promotion      489120 non-null  int64  \n",
      " 7   homepage_featured          489120 non-null  int64  \n",
      " 8   num_orders                 456547 non-null  float64\n",
      " 9   city_code                  489120 non-null  int64  \n",
      " 10  region_code                489120 non-null  int64  \n",
      " 11  center_type                489120 non-null  object \n",
      " 12  op_area                    489120 non-null  float64\n",
      " 13  category                   489120 non-null  object \n",
      " 14  cuisine                    489120 non-null  object \n",
      " 15  num_orders_lag_10          453243 non-null  float64\n",
      " 16  num_orders_lag_11          449671 non-null  float64\n",
      " 17  num_orders_lag_12          446100 non-null  float64\n",
      " 18  num_orders_lag_10_ewm_0.5  488610 non-null  float64\n",
      " 19  num_orders_lag_11_ewm_0.5  488559 non-null  float64\n",
      " 20  num_orders_lag_12_ewm_0.5  488508 non-null  float64\n",
      " 21  num_orders_lag_13_ewm_0.5  488457 non-null  float64\n",
      " 22  num_orders_lag_14_ewm_0.5  488406 non-null  float64\n",
      " 23  num_orders_lag_15_ewm_0.5  488355 non-null  float64\n",
      "dtypes: float64(13), int64(8), object(3)\n",
      "memory usage: 93.3+ MB\n"
     ]
    }
   ],
   "source": [
    "total_data.info()"
   ]
  },
  {
   "cell_type": "code",
   "execution_count": 64,
   "id": "127b4ecb",
   "metadata": {
    "ExecuteTime": {
     "end_time": "2022-07-26T19:16:18.644869Z",
     "start_time": "2022-07-26T19:16:18.636839Z"
    }
   },
   "outputs": [],
   "source": [
    "qt = QuantileTransformer(n_quantiles=500, output_distribution='normal')"
   ]
  },
  {
   "cell_type": "code",
   "execution_count": 65,
   "id": "f157ff4b",
   "metadata": {
    "ExecuteTime": {
     "end_time": "2022-07-26T19:16:19.290516Z",
     "start_time": "2022-07-26T19:16:19.186350Z"
    }
   },
   "outputs": [],
   "source": [
    "num_train=total_data[['checkout_price','base_price',\n",
    "                    'op_area',\n",
    "                    'num_orders_lag_10',\n",
    "                    'num_orders_lag_11',\n",
    "                    'num_orders_lag_12',\n",
    "                    'num_orders_lag_10_ewm_0.5',\n",
    "                    'num_orders_lag_11_ewm_0.5',\n",
    "                    'num_orders_lag_12_ewm_0.5',\n",
    "                    'num_orders_lag_13_ewm_0.5',\n",
    "                    'num_orders_lag_14_ewm_0.5',\n",
    "                    'num_orders_lag_15_ewm_0.5']]"
   ]
  },
  {
   "cell_type": "code",
   "execution_count": 66,
   "id": "fe602535",
   "metadata": {
    "ExecuteTime": {
     "end_time": "2022-07-26T19:16:20.755640Z",
     "start_time": "2022-07-26T19:16:19.607774Z"
    }
   },
   "outputs": [],
   "source": [
    "for i in num_train:\n",
    "    array = np.array(total_data[i]).reshape(-1, 1)\n",
    "    x = qt.fit_transform(array)\n",
    "    total_data[i]=x"
   ]
  },
  {
   "cell_type": "code",
   "execution_count": 67,
   "id": "cc4757f0",
   "metadata": {
    "ExecuteTime": {
     "end_time": "2022-07-26T19:16:20.846995Z",
     "start_time": "2022-07-26T19:16:20.755640Z"
    }
   },
   "outputs": [],
   "source": [
    "trainf=total_data[total_data['week'].isin(range(1,146))]\n",
    "testf=total_data[total_data['week'].isin(range(146,156))]"
   ]
  },
  {
   "cell_type": "code",
   "execution_count": 68,
   "id": "d2789dcb",
   "metadata": {
    "ExecuteTime": {
     "end_time": "2022-07-26T19:16:23.673900Z",
     "start_time": "2022-07-26T19:16:20.846995Z"
    }
   },
   "outputs": [
    {
     "name": "stdout",
     "output_type": "stream",
     "text": [
      "Lambda value used for Transformation: 0.01734726209669242\n"
     ]
    },
    {
     "data": {
      "image/png": "[encoded data removed]",
      "text/plain": [
       "<Figure size 640x480 with 1 Axes>"
      ]
     },
     "metadata": {},
     "output_type": "display_data"
    }
   ],
   "source": [
    "fitted_data, fitted_lambda = stats.boxcox(trainf['num_orders'])\n",
    "t=sns.distplot(fitted_data,label=\"Skewness: %.5f\"%(skew(fitted_data)))\n",
    "t.legend()\n",
    "print(f\"Lambda value used for Transformation: {fitted_lambda}\")"
   ]
  },
  {
   "cell_type": "code",
   "execution_count": 69,
   "id": "3805358e",
   "metadata": {
    "ExecuteTime": {
     "end_time": "2022-07-26T19:16:23.681900Z",
     "start_time": "2022-07-26T19:16:23.673900Z"
    }
   },
   "outputs": [],
   "source": [
    "trainf['num_orders']=fitted_data"
   ]
  },
  {
   "cell_type": "code",
   "execution_count": 70,
   "id": "5ed72ae5",
   "metadata": {
    "ExecuteTime": {
     "end_time": "2022-07-26T19:16:24.291035Z",
     "start_time": "2022-07-26T19:16:24.250957Z"
    }
   },
   "outputs": [],
   "source": [
    "scaler = StandardScaler()\n",
    "\n",
    "scaler.fit(trainf[['num_orders']])\n",
    "scaled = scaler.transform(trainf[['num_orders']])\n",
    "#trainf['num_orders']=scaled\n",
    "\n",
    "x_array = np.array([trainf['num_orders']])\n",
    "normalized_arr = preprocessing.normalize(x_array,norm='l2')\n",
    "#trainf['num_orders']=normalized_arr\n",
    "\n",
    "minmax_scale = preprocessing.MinMaxScaler(feature_range=(0, 1))\n",
    "x_scale = minmax_scale.fit_transform(trainf[['num_orders']])\n",
    "#trainf['num_orders']=x_scale"
   ]
  },
  {
   "cell_type": "code",
   "execution_count": 71,
   "id": "7d574f60",
   "metadata": {
    "ExecuteTime": {
     "end_time": "2022-07-26T19:16:27.507828Z",
     "start_time": "2022-07-26T19:16:25.124543Z"
    }
   },
   "outputs": [
    {
     "data": {
      "text/plain": [
       "<matplotlib.legend.Legend at 0x27ab5026940>"
      ]
     },
     "execution_count": 71,
     "metadata": {},
     "output_type": "execute_result"
    },
    {
     "data": {
      "image/png": "[encoded data removed]",
      "text/plain": [
       "<Figure size 640x480 with 1 Axes>"
      ]
     },
     "metadata": {},
     "output_type": "display_data"
    }
   ],
   "source": [
    "t=sns.distplot(scaled,label=\"Skewness: %.5f\"%(skew(scaled)))\n",
    "t.legend()"
   ]
  },
  {
   "cell_type": "code",
   "execution_count": 72,
   "id": "f99fdacf",
   "metadata": {
    "ExecuteTime": {
     "end_time": "2022-07-26T19:16:29.824707Z",
     "start_time": "2022-07-26T19:16:27.507828Z"
    }
   },
   "outputs": [
    {
     "data": {
      "text/plain": [
       "<matplotlib.legend.Legend at 0x27ab50d9dc0>"
      ]
     },
     "execution_count": 72,
     "metadata": {},
     "output_type": "execute_result"
    },
    {
     "data": {
      "image/png": "[encoded data removed]",
      "text/plain": [
       "<Figure size 640x480 with 1 Axes>"
      ]
     },
     "metadata": {},
     "output_type": "display_data"
    }
   ],
   "source": [
    "t=sns.distplot(normalized_arr[0],label=\"Skewness: %.5f\"%(skew(normalized_arr[0])))\n",
    "t.legend()"
   ]
  },
  {
   "cell_type": "code",
   "execution_count": 73,
   "id": "319869ab",
   "metadata": {
    "ExecuteTime": {
     "end_time": "2022-07-26T19:16:32.164696Z",
     "start_time": "2022-07-26T19:16:29.824707Z"
    }
   },
   "outputs": [
    {
     "data": {
      "text/plain": [
       "<matplotlib.legend.Legend at 0x27ab52928b0>"
      ]
     },
     "execution_count": 73,
     "metadata": {},
     "output_type": "execute_result"
    },
    {
     "data": {
      "image/png": "[encoded data removed]",
      "text/plain": [
       "<Figure size 640x480 with 1 Axes>"
      ]
     },
     "metadata": {},
     "output_type": "display_data"
    }
   ],
   "source": [
    "t=sns.distplot(x_scale,label=\"Skewness: %.5f\"%(skew(x_scale)))\n",
    "t.legend()"
   ]
  },
  {
   "cell_type": "code",
   "execution_count": 74,
   "id": "5e66a726",
   "metadata": {
    "ExecuteTime": {
     "end_time": "2022-07-26T19:16:32.180729Z",
     "start_time": "2022-07-26T19:16:32.164696Z"
    }
   },
   "outputs": [],
   "source": [
    "trainf['num_orders']=normalized_arr[0]"
   ]
  },
  {
   "cell_type": "code",
   "execution_count": 75,
   "id": "d3360156",
   "metadata": {
    "ExecuteTime": {
     "end_time": "2022-07-26T19:16:32.292705Z",
     "start_time": "2022-07-26T19:16:32.180729Z"
    }
   },
   "outputs": [],
   "source": [
    "datasetf =  pd.concat(objs=[trainf, testf], axis=0,ignore_index=True)"
   ]
  },
  {
   "cell_type": "code",
   "execution_count": 76,
   "id": "3dddf7ad",
   "metadata": {
    "ExecuteTime": {
     "end_time": "2022-07-26T19:16:32.308735Z",
     "start_time": "2022-07-26T19:16:32.292705Z"
    }
   },
   "outputs": [],
   "source": [
    "#datasetf=total_data"
   ]
  },
  {
   "cell_type": "code",
   "execution_count": 77,
   "id": "ee1a746b",
   "metadata": {
    "ExecuteTime": {
     "end_time": "2022-07-26T19:16:32.412852Z",
     "start_time": "2022-07-26T19:16:32.308735Z"
    }
   },
   "outputs": [],
   "source": [
    "datasetf['center_id']=datasetf['center_id'].astype('object')\n",
    "datasetf['meal_id']=datasetf['meal_id'].astype('object')\n",
    "datasetf['region_code']=datasetf['region_code'].astype('object')\n",
    "datasetf['city_code']=datasetf['city_code'].astype('object')\n",
    "datasetf['center_type']=datasetf['center_type'].astype('object')\n",
    "datasetf['category']=datasetf['category'].astype('object')\n",
    "datasetf['cuisine']=datasetf['cuisine'].astype('object')"
   ]
  },
  {
   "cell_type": "code",
   "execution_count": 78,
   "id": "89922eef",
   "metadata": {
    "ExecuteTime": {
     "end_time": "2022-07-26T19:16:33.002666Z",
     "start_time": "2022-07-26T19:16:32.412852Z"
    }
   },
   "outputs": [],
   "source": [
    "# label_encoder object knows how to understand word labels.\n",
    "label_encoder = preprocessing.LabelEncoder()\n",
    "\n",
    "# Iterate over column names\n",
    "for column in datasetf:\n",
    "    if datasetf[column].dtype.kind == 'O':\n",
    "        datasetf[column]= label_encoder.fit_transform(datasetf[column])"
   ]
  },
  {
   "cell_type": "code",
   "execution_count": 79,
   "id": "b6b31abb",
   "metadata": {
    "ExecuteTime": {
     "end_time": "2022-07-26T19:16:33.234745Z",
     "start_time": "2022-07-26T19:16:33.002666Z"
    }
   },
   "outputs": [],
   "source": [
    "datasetf=datasetf.sort_values(by=['week','meal_id',\"center_id\"], ascending=True)"
   ]
  },
  {
   "cell_type": "code",
   "execution_count": 80,
   "id": "f0f9ab8a",
   "metadata": {
    "ExecuteTime": {
     "end_time": "2022-07-26T19:16:33.362759Z",
     "start_time": "2022-07-26T19:16:33.234745Z"
    }
   },
   "outputs": [],
   "source": [
    "trainx=datasetf[datasetf['week'].isin(range(1,146))]\n",
    "testx=datasetf[datasetf['week'].isin(range(146,156))]"
   ]
  },
  {
   "cell_type": "code",
   "execution_count": 81,
   "id": "5cd7ef05",
   "metadata": {
    "ExecuteTime": {
     "end_time": "2022-07-26T19:16:33.378594Z",
     "start_time": "2022-07-26T19:16:33.362759Z"
    }
   },
   "outputs": [],
   "source": [
    "#trainx=trainx.dropna()\n",
    "#testx['num_orders']=0\n",
    "#testx=testx.dropna()"
   ]
  },
  {
   "cell_type": "code",
   "execution_count": 82,
   "id": "786bfbda",
   "metadata": {},
   "outputs": [],
   "source": [
    "trainx.to_csv('Train1.csv')\n",
    "testx.to_csv('Test1.csv')"
   ]
  },
  {
   "cell_type": "code",
   "execution_count": 84,
   "id": "99d07220",
   "metadata": {},
   "outputs": [
    {
     "name": "stdout",
     "output_type": "stream",
     "text": [
      "<class 'pandas.core.frame.DataFrame'>\n",
      "RangeIndex: 456547 entries, 0 to 456546\n",
      "Data columns (total 25 columns):\n",
      " #   Column                     Non-Null Count   Dtype  \n",
      "---  ------                     --------------   -----  \n",
      " 0   Unnamed: 0                 456547 non-null  int64  \n",
      " 1   id                         456547 non-null  int64  \n",
      " 2   week                       456547 non-null  int64  \n",
      " 3   center_id                  456547 non-null  int64  \n",
      " 4   meal_id                    456547 non-null  int64  \n",
      " 5   checkout_price             456547 non-null  float64\n",
      " 6   base_price                 456547 non-null  float64\n",
      " 7   emailer_for_promotion      456547 non-null  int64  \n",
      " 8   homepage_featured          456547 non-null  int64  \n",
      " 9   num_orders                 456547 non-null  float64\n",
      " 10  city_code                  456547 non-null  int64  \n",
      " 11  region_code                456547 non-null  int64  \n",
      " 12  center_type                456547 non-null  int64  \n",
      " 13  op_area                    456547 non-null  float64\n",
      " 14  category                   456547 non-null  int64  \n",
      " 15  cuisine                    456547 non-null  int64  \n",
      " 16  num_orders_lag_10          420704 non-null  float64\n",
      " 17  num_orders_lag_11          417135 non-null  float64\n",
      " 18  num_orders_lag_12          413567 non-null  float64\n",
      " 19  num_orders_lag_10_ewm_0.5  456037 non-null  float64\n",
      " 20  num_orders_lag_11_ewm_0.5  455986 non-null  float64\n",
      " 21  num_orders_lag_12_ewm_0.5  455935 non-null  float64\n",
      " 22  num_orders_lag_13_ewm_0.5  455884 non-null  float64\n",
      " 23  num_orders_lag_14_ewm_0.5  455833 non-null  float64\n",
      " 24  num_orders_lag_15_ewm_0.5  455782 non-null  float64\n",
      "dtypes: float64(13), int64(12)\n",
      "memory usage: 87.1 MB\n"
     ]
    }
   ],
   "source": [
    "t1 = pd.read_csv('Train1.csv')\n",
    "t1.info()"
   ]
  },
  {
   "cell_type": "code",
   "execution_count": 86,
   "id": "acb7b4f4",
   "metadata": {},
   "outputs": [
    {
     "data": {
      "text/html": [
       "<div>\n",
       "<style scoped>\n",
       "    .dataframe tbody tr th:only-of-type {\n",
       "        vertical-align: middle;\n",
       "    }\n",
       "\n",
       "    .dataframe tbody tr th {\n",
       "        vertical-align: top;\n",
       "    }\n",
       "\n",
       "    .dataframe thead th {\n",
       "        text-align: right;\n",
       "    }\n",
       "</style>\n",
       "<table border=\"1\" class=\"dataframe\">\n",
       "  <thead>\n",
       "    <tr style=\"text-align: right;\">\n",
       "      <th></th>\n",
       "      <th>Unnamed: 0</th>\n",
       "      <th>id</th>\n",
       "      <th>week</th>\n",
       "      <th>center_id</th>\n",
       "      <th>meal_id</th>\n",
       "      <th>checkout_price</th>\n",
       "      <th>base_price</th>\n",
       "      <th>emailer_for_promotion</th>\n",
       "      <th>homepage_featured</th>\n",
       "      <th>num_orders</th>\n",
       "      <th>...</th>\n",
       "      <th>cuisine</th>\n",
       "      <th>num_orders_lag_10</th>\n",
       "      <th>num_orders_lag_11</th>\n",
       "      <th>num_orders_lag_12</th>\n",
       "      <th>num_orders_lag_10_ewm_0.5</th>\n",
       "      <th>num_orders_lag_11_ewm_0.5</th>\n",
       "      <th>num_orders_lag_12_ewm_0.5</th>\n",
       "      <th>num_orders_lag_13_ewm_0.5</th>\n",
       "      <th>num_orders_lag_14_ewm_0.5</th>\n",
       "      <th>num_orders_lag_15_ewm_0.5</th>\n",
       "    </tr>\n",
       "  </thead>\n",
       "  <tbody>\n",
       "    <tr>\n",
       "      <th>0</th>\n",
       "      <td>57738</td>\n",
       "      <td>1436842</td>\n",
       "      <td>1</td>\n",
       "      <td>0</td>\n",
       "      <td>0</td>\n",
       "      <td>-0.937119</td>\n",
       "      <td>-1.061248</td>\n",
       "      <td>0</td>\n",
       "      <td>0</td>\n",
       "      <td>0.002016</td>\n",
       "      <td>...</td>\n",
       "      <td>2</td>\n",
       "      <td>NaN</td>\n",
       "      <td>NaN</td>\n",
       "      <td>NaN</td>\n",
       "      <td>NaN</td>\n",
       "      <td>NaN</td>\n",
       "      <td>NaN</td>\n",
       "      <td>NaN</td>\n",
       "      <td>NaN</td>\n",
       "      <td>NaN</td>\n",
       "    </tr>\n",
       "    <tr>\n",
       "      <th>1</th>\n",
       "      <td>57883</td>\n",
       "      <td>1057835</td>\n",
       "      <td>1</td>\n",
       "      <td>1</td>\n",
       "      <td>0</td>\n",
       "      <td>-0.891342</td>\n",
       "      <td>-1.043767</td>\n",
       "      <td>0</td>\n",
       "      <td>0</td>\n",
       "      <td>0.001990</td>\n",
       "      <td>...</td>\n",
       "      <td>2</td>\n",
       "      <td>NaN</td>\n",
       "      <td>NaN</td>\n",
       "      <td>NaN</td>\n",
       "      <td>1.786313</td>\n",
       "      <td>1.791435</td>\n",
       "      <td>1.815484</td>\n",
       "      <td>1.702107</td>\n",
       "      <td>1.673688</td>\n",
       "      <td>1.668726</td>\n",
       "    </tr>\n",
       "    <tr>\n",
       "      <th>2</th>\n",
       "      <td>58028</td>\n",
       "      <td>1217794</td>\n",
       "      <td>1</td>\n",
       "      <td>2</td>\n",
       "      <td>0</td>\n",
       "      <td>-0.883894</td>\n",
       "      <td>-0.984949</td>\n",
       "      <td>0</td>\n",
       "      <td>0</td>\n",
       "      <td>0.002061</td>\n",
       "      <td>...</td>\n",
       "      <td>2</td>\n",
       "      <td>NaN</td>\n",
       "      <td>NaN</td>\n",
       "      <td>NaN</td>\n",
       "      <td>1.474728</td>\n",
       "      <td>1.472715</td>\n",
       "      <td>1.369544</td>\n",
       "      <td>1.424308</td>\n",
       "      <td>1.364708</td>\n",
       "      <td>1.300017</td>\n",
       "    </tr>\n",
       "    <tr>\n",
       "      <th>3</th>\n",
       "      <td>58173</td>\n",
       "      <td>1439697</td>\n",
       "      <td>1</td>\n",
       "      <td>3</td>\n",
       "      <td>0</td>\n",
       "      <td>-0.906390</td>\n",
       "      <td>-1.043767</td>\n",
       "      <td>0</td>\n",
       "      <td>0</td>\n",
       "      <td>0.001635</td>\n",
       "      <td>...</td>\n",
       "      <td>2</td>\n",
       "      <td>NaN</td>\n",
       "      <td>NaN</td>\n",
       "      <td>NaN</td>\n",
       "      <td>1.798123</td>\n",
       "      <td>1.962897</td>\n",
       "      <td>1.860006</td>\n",
       "      <td>1.829431</td>\n",
       "      <td>1.846443</td>\n",
       "      <td>1.891784</td>\n",
       "    </tr>\n",
       "    <tr>\n",
       "      <th>4</th>\n",
       "      <td>58318</td>\n",
       "      <td>1431697</td>\n",
       "      <td>1</td>\n",
       "      <td>4</td>\n",
       "      <td>0</td>\n",
       "      <td>-0.891342</td>\n",
       "      <td>-1.043767</td>\n",
       "      <td>0</td>\n",
       "      <td>0</td>\n",
       "      <td>0.001652</td>\n",
       "      <td>...</td>\n",
       "      <td>2</td>\n",
       "      <td>NaN</td>\n",
       "      <td>NaN</td>\n",
       "      <td>NaN</td>\n",
       "      <td>0.657822</td>\n",
       "      <td>0.890954</td>\n",
       "      <td>0.811353</td>\n",
       "      <td>0.943663</td>\n",
       "      <td>0.811370</td>\n",
       "      <td>0.816035</td>\n",
       "    </tr>\n",
       "    <tr>\n",
       "      <th>...</th>\n",
       "      <td>...</td>\n",
       "      <td>...</td>\n",
       "      <td>...</td>\n",
       "      <td>...</td>\n",
       "      <td>...</td>\n",
       "      <td>...</td>\n",
       "      <td>...</td>\n",
       "      <td>...</td>\n",
       "      <td>...</td>\n",
       "      <td>...</td>\n",
       "      <td>...</td>\n",
       "      <td>...</td>\n",
       "      <td>...</td>\n",
       "      <td>...</td>\n",
       "      <td>...</td>\n",
       "      <td>...</td>\n",
       "      <td>...</td>\n",
       "      <td>...</td>\n",
       "      <td>...</td>\n",
       "      <td>...</td>\n",
       "      <td>...</td>\n",
       "    </tr>\n",
       "    <tr>\n",
       "      <th>456542</th>\n",
       "      <td>426976</td>\n",
       "      <td>1010385</td>\n",
       "      <td>145</td>\n",
       "      <td>67</td>\n",
       "      <td>50</td>\n",
       "      <td>1.321386</td>\n",
       "      <td>1.115750</td>\n",
       "      <td>0</td>\n",
       "      <td>0</td>\n",
       "      <td>0.001466</td>\n",
       "      <td>...</td>\n",
       "      <td>0</td>\n",
       "      <td>-0.098112</td>\n",
       "      <td>-0.391550</td>\n",
       "      <td>-0.158900</td>\n",
       "      <td>-0.083824</td>\n",
       "      <td>-0.041441</td>\n",
       "      <td>0.233439</td>\n",
       "      <td>0.556353</td>\n",
       "      <td>0.353555</td>\n",
       "      <td>0.590065</td>\n",
       "    </tr>\n",
       "    <tr>\n",
       "      <th>456543</th>\n",
       "      <td>426984</td>\n",
       "      <td>1238985</td>\n",
       "      <td>145</td>\n",
       "      <td>69</td>\n",
       "      <td>50</td>\n",
       "      <td>1.352071</td>\n",
       "      <td>1.065669</td>\n",
       "      <td>0</td>\n",
       "      <td>0</td>\n",
       "      <td>0.001160</td>\n",
       "      <td>...</td>\n",
       "      <td>0</td>\n",
       "      <td>NaN</td>\n",
       "      <td>NaN</td>\n",
       "      <td>NaN</td>\n",
       "      <td>-0.119773</td>\n",
       "      <td>-0.280419</td>\n",
       "      <td>0.013391</td>\n",
       "      <td>0.152539</td>\n",
       "      <td>0.229383</td>\n",
       "      <td>0.259578</td>\n",
       "    </tr>\n",
       "    <tr>\n",
       "      <th>456544</th>\n",
       "      <td>427065</td>\n",
       "      <td>1196873</td>\n",
       "      <td>145</td>\n",
       "      <td>70</td>\n",
       "      <td>50</td>\n",
       "      <td>1.606262</td>\n",
       "      <td>1.424476</td>\n",
       "      <td>0</td>\n",
       "      <td>0</td>\n",
       "      <td>0.000759</td>\n",
       "      <td>...</td>\n",
       "      <td>0</td>\n",
       "      <td>-0.679227</td>\n",
       "      <td>-0.623332</td>\n",
       "      <td>0.037684</td>\n",
       "      <td>-0.391899</td>\n",
       "      <td>-0.161874</td>\n",
       "      <td>0.168966</td>\n",
       "      <td>0.312660</td>\n",
       "      <td>0.326736</td>\n",
       "      <td>0.061588</td>\n",
       "    </tr>\n",
       "    <tr>\n",
       "      <th>456545</th>\n",
       "      <td>427148</td>\n",
       "      <td>1456282</td>\n",
       "      <td>145</td>\n",
       "      <td>71</td>\n",
       "      <td>50</td>\n",
       "      <td>1.321386</td>\n",
       "      <td>1.088095</td>\n",
       "      <td>0</td>\n",
       "      <td>0</td>\n",
       "      <td>0.001331</td>\n",
       "      <td>...</td>\n",
       "      <td>0</td>\n",
       "      <td>-0.883894</td>\n",
       "      <td>-0.108212</td>\n",
       "      <td>0.465906</td>\n",
       "      <td>-0.309853</td>\n",
       "      <td>0.023307</td>\n",
       "      <td>0.168341</td>\n",
       "      <td>-0.214505</td>\n",
       "      <td>-0.301002</td>\n",
       "      <td>-0.107640</td>\n",
       "    </tr>\n",
       "    <tr>\n",
       "      <th>456546</th>\n",
       "      <td>427228</td>\n",
       "      <td>1018583</td>\n",
       "      <td>145</td>\n",
       "      <td>74</td>\n",
       "      <td>50</td>\n",
       "      <td>1.726996</td>\n",
       "      <td>1.352071</td>\n",
       "      <td>0</td>\n",
       "      <td>0</td>\n",
       "      <td>0.001438</td>\n",
       "      <td>...</td>\n",
       "      <td>0</td>\n",
       "      <td>0.108212</td>\n",
       "      <td>-0.282507</td>\n",
       "      <td>-0.248681</td>\n",
       "      <td>-0.002129</td>\n",
       "      <td>-0.104171</td>\n",
       "      <td>0.072909</td>\n",
       "      <td>0.351724</td>\n",
       "      <td>0.403129</td>\n",
       "      <td>0.308711</td>\n",
       "    </tr>\n",
       "  </tbody>\n",
       "</table>\n",
       "<p>456547 rows × 25 columns</p>\n",
       "</div>"
      ],
      "text/plain": [
       "        Unnamed: 0       id  week  center_id  meal_id  checkout_price  \\\n",
       "0            57738  1436842     1          0        0       -0.937119   \n",
       "1            57883  1057835     1          1        0       -0.891342   \n",
       "2            58028  1217794     1          2        0       -0.883894   \n",
       "3            58173  1439697     1          3        0       -0.906390   \n",
       "4            58318  1431697     1          4        0       -0.891342   \n",
       "...            ...      ...   ...        ...      ...             ...   \n",
       "456542      426976  1010385   145         67       50        1.321386   \n",
       "456543      426984  1238985   145         69       50        1.352071   \n",
       "456544      427065  1196873   145         70       50        1.606262   \n",
       "456545      427148  1456282   145         71       50        1.321386   \n",
       "456546      427228  1018583   145         74       50        1.726996   \n",
       "\n",
       "        base_price  emailer_for_promotion  homepage_featured  num_orders  ...  \\\n",
       "0        -1.061248                      0                  0    0.002016  ...   \n",
       "1        -1.043767                      0                  0    0.001990  ...   \n",
       "2        -0.984949                      0                  0    0.002061  ...   \n",
       "3        -1.043767                      0                  0    0.001635  ...   \n",
       "4        -1.043767                      0                  0    0.001652  ...   \n",
       "...            ...                    ...                ...         ...  ...   \n",
       "456542    1.115750                      0                  0    0.001466  ...   \n",
       "456543    1.065669                      0                  0    0.001160  ...   \n",
       "456544    1.424476                      0                  0    0.000759  ...   \n",
       "456545    1.088095                      0                  0    0.001331  ...   \n",
       "456546    1.352071                      0                  0    0.001438  ...   \n",
       "\n",
       "        cuisine  num_orders_lag_10  num_orders_lag_11  num_orders_lag_12  \\\n",
       "0             2                NaN                NaN                NaN   \n",
       "1             2                NaN                NaN                NaN   \n",
       "2             2                NaN                NaN                NaN   \n",
       "3             2                NaN                NaN                NaN   \n",
       "4             2                NaN                NaN                NaN   \n",
       "...         ...                ...                ...                ...   \n",
       "456542        0          -0.098112          -0.391550          -0.158900   \n",
       "456543        0                NaN                NaN                NaN   \n",
       "456544        0          -0.679227          -0.623332           0.037684   \n",
       "456545        0          -0.883894          -0.108212           0.465906   \n",
       "456546        0           0.108212          -0.282507          -0.248681   \n",
       "\n",
       "        num_orders_lag_10_ewm_0.5  num_orders_lag_11_ewm_0.5  \\\n",
       "0                             NaN                        NaN   \n",
       "1                        1.786313                   1.791435   \n",
       "2                        1.474728                   1.472715   \n",
       "3                        1.798123                   1.962897   \n",
       "4                        0.657822                   0.890954   \n",
       "...                           ...                        ...   \n",
       "456542                  -0.083824                  -0.041441   \n",
       "456543                  -0.119773                  -0.280419   \n",
       "456544                  -0.391899                  -0.161874   \n",
       "456545                  -0.309853                   0.023307   \n",
       "456546                  -0.002129                  -0.104171   \n",
       "\n",
       "        num_orders_lag_12_ewm_0.5  num_orders_lag_13_ewm_0.5  \\\n",
       "0                             NaN                        NaN   \n",
       "1                        1.815484                   1.702107   \n",
       "2                        1.369544                   1.424308   \n",
       "3                        1.860006                   1.829431   \n",
       "4                        0.811353                   0.943663   \n",
       "...                           ...                        ...   \n",
       "456542                   0.233439                   0.556353   \n",
       "456543                   0.013391                   0.152539   \n",
       "456544                   0.168966                   0.312660   \n",
       "456545                   0.168341                  -0.214505   \n",
       "456546                   0.072909                   0.351724   \n",
       "\n",
       "        num_orders_lag_14_ewm_0.5  num_orders_lag_15_ewm_0.5  \n",
       "0                             NaN                        NaN  \n",
       "1                        1.673688                   1.668726  \n",
       "2                        1.364708                   1.300017  \n",
       "3                        1.846443                   1.891784  \n",
       "4                        0.811370                   0.816035  \n",
       "...                           ...                        ...  \n",
       "456542                   0.353555                   0.590065  \n",
       "456543                   0.229383                   0.259578  \n",
       "456544                   0.326736                   0.061588  \n",
       "456545                  -0.301002                  -0.107640  \n",
       "456546                   0.403129                   0.308711  \n",
       "\n",
       "[456547 rows x 25 columns]"
      ]
     },
     "execution_count": 86,
     "metadata": {},
     "output_type": "execute_result"
    }
   ],
   "source": [
    "t1"
   ]
  },
  {
   "cell_type": "code",
   "execution_count": 85,
   "id": "c3f340cc",
   "metadata": {},
   "outputs": [
    {
     "name": "stdout",
     "output_type": "stream",
     "text": [
      "<class 'pandas.core.frame.DataFrame'>\n",
      "RangeIndex: 32573 entries, 0 to 32572\n",
      "Data columns (total 25 columns):\n",
      " #   Column                     Non-Null Count  Dtype  \n",
      "---  ------                     --------------  -----  \n",
      " 0   Unnamed: 0                 32573 non-null  int64  \n",
      " 1   id                         32573 non-null  int64  \n",
      " 2   week                       32573 non-null  int64  \n",
      " 3   center_id                  32573 non-null  int64  \n",
      " 4   meal_id                    32573 non-null  int64  \n",
      " 5   checkout_price             32573 non-null  float64\n",
      " 6   base_price                 32573 non-null  float64\n",
      " 7   emailer_for_promotion      32573 non-null  int64  \n",
      " 8   homepage_featured          32573 non-null  int64  \n",
      " 9   num_orders                 0 non-null      float64\n",
      " 10  city_code                  32573 non-null  int64  \n",
      " 11  region_code                32573 non-null  int64  \n",
      " 12  center_type                32573 non-null  int64  \n",
      " 13  op_area                    32573 non-null  float64\n",
      " 14  category                   32573 non-null  int64  \n",
      " 15  cuisine                    32573 non-null  int64  \n",
      " 16  num_orders_lag_10          32539 non-null  float64\n",
      " 17  num_orders_lag_11          32536 non-null  float64\n",
      " 18  num_orders_lag_12          32533 non-null  float64\n",
      " 19  num_orders_lag_10_ewm_0.5  32573 non-null  float64\n",
      " 20  num_orders_lag_11_ewm_0.5  32573 non-null  float64\n",
      " 21  num_orders_lag_12_ewm_0.5  32573 non-null  float64\n",
      " 22  num_orders_lag_13_ewm_0.5  32573 non-null  float64\n",
      " 23  num_orders_lag_14_ewm_0.5  32573 non-null  float64\n",
      " 24  num_orders_lag_15_ewm_0.5  32573 non-null  float64\n",
      "dtypes: float64(13), int64(12)\n",
      "memory usage: 6.2 MB\n"
     ]
    }
   ],
   "source": [
    "t2 = pd.read_csv('Test1.csv')\n",
    "t2.info()"
   ]
  },
  {
   "cell_type": "code",
   "execution_count": null,
   "id": "18073c5f",
   "metadata": {},
   "outputs": [],
   "source": []
  }
 ],
 "metadata": {
  "kernelspec": {
   "display_name": "Python 3 (ipykernel)",
   "language": "python",
   "name": "python3"
  },
  "language_info": {
   "codemirror_mode": {
    "name": "ipython",
    "version": 3
   },
   "file_extension": ".py",
   "mimetype": "text/x-python",
   "name": "python",
   "nbconvert_exporter": "python",
   "pygments_lexer": "ipython3",
   "version": "3.9.13"
  }
 },
 "nbformat": 4,
 "nbformat_minor": 5
}
