{
 "cells": [
  {
   "cell_type": "markdown",
   "id": "f4dd3478",
   "metadata": {},
   "source": [
    "# Import libraries and define a few variables"
   ]
  },
  {
   "cell_type": "code",
   "execution_count": 1,
   "id": "d02ff836",
   "metadata": {},
   "outputs": [],
   "source": [
    "import matplotlib.pyplot as plt\n",
    "import ecg_plot\n",
    "import numpy as np\n",
    "import os \n",
    "import neurokit2 as nk\n",
    "import random\n",
    "import warnings\n",
    "\n",
    "from scipy.io import loadmat\n",
    "from glob import glob\n",
    "\n",
    "warnings.filterwarnings('ignore')"
   ]
  },
  {
   "cell_type": "code",
   "execution_count": 2,
   "id": "fb39dc42",
   "metadata": {},
   "outputs": [],
   "source": [
    "path_mat = glob('Training_2/*.mat')"
   ]
  },
  {
   "cell_type": "code",
   "execution_count": 3,
   "id": "91514690",
   "metadata": {},
   "outputs": [
    {
     "data": {
      "text/plain": [
       "3453"
      ]
     },
     "execution_count": 3,
     "metadata": {},
     "output_type": "execute_result"
    }
   ],
   "source": [
    "len(path_mat)"
   ]
  },
  {
   "cell_type": "markdown",
   "id": "33f6cea4",
   "metadata": {},
   "source": [
    "# Helper Functions"
   ]
  },
  {
   "cell_type": "code",
   "execution_count": 4,
   "id": "5a2bc51a",
   "metadata": {},
   "outputs": [],
   "source": [
    "def load_data(filename,calib):\n",
    "    \n",
    "    x = loadmat(filename)\n",
    "    data = np.asarray(x['val'], dtype=np.float64)\n",
    "        \n",
    "    lead_2 = data[1]/calib\n",
    "    lead_3 = data[2]/calib\n",
    "\n",
    "    avf = data[5]/calib\n",
    "\n",
    "    v2 = data[7]/calib\n",
    "    v3 = data[8]/calib\n",
    "    v4 = data[9]/calib\n",
    "    v5 = data[10]/calib\n",
    "    v6 = data[11]/calib\n",
    "    \n",
    "    new_file = filename.replace('.mat','.hea')\n",
    "    input_header_file = os.path.join(new_file)\n",
    "    with open(input_header_file,'r') as f:\n",
    "        header_data=f.readlines()\n",
    "        \n",
    "    gender = header_data[-5][6:].split('\\n')[0]\n",
    "    \n",
    "    dict_1 = {'lead_2': lead_2,\n",
    "              'lead_3': lead_3,\n",
    "               'avf': avf,\n",
    "                'v2': v2,\n",
    "            'v3': v3,\n",
    "             'v4': v4,\n",
    "             'v5': v5,\n",
    "             'v6': v6} \n",
    "    \n",
    "    return dict(dict_1) ,gender,header_data"
   ]
  },
  {
   "cell_type": "code",
   "execution_count": 5,
   "id": "ef78304f",
   "metadata": {},
   "outputs": [],
   "source": [
    "def calculate_ST_elevation(st_segment,baseline_val):\n",
    "    \n",
    "    # Calculate the maximum value in the ST segment\n",
    "    st_max = np.max(st_segment)\n",
    "    \n",
    "    # Calculate the ST segment elevation as the difference between the baseline and maximum values\n",
    "    st_elevation = st_max - baseline_val\n",
    "    \n",
    "    return st_elevation"
   ]
  },
  {
   "cell_type": "markdown",
   "id": "2446c2c9",
   "metadata": {},
   "source": [
    "# Contents of the any one of the files"
   ]
  },
  {
   "cell_type": "code",
   "execution_count": 18,
   "id": "f8c969f3",
   "metadata": {},
   "outputs": [],
   "source": [
    "n = random.randint(0,len(path_mat))"
   ]
  },
  {
   "cell_type": "code",
   "execution_count": 19,
   "id": "dce0ef6d",
   "metadata": {},
   "outputs": [],
   "source": [
    "x = loadmat(path_mat[n])\n",
    "data = np.asarray(x['val'], dtype=np.float64)\n",
    "    \n",
    "new_file = path_mat[n].replace('.mat','.hea')\n",
    "input_header_file = os.path.join(new_file)\n",
    "with open(input_header_file,'r') as f:\n",
    "    header_data=f.readlines()"
   ]
  },
  {
   "cell_type": "code",
   "execution_count": 20,
   "id": "4b7397fe",
   "metadata": {},
   "outputs": [
    {
     "data": {
      "text/plain": [
       "(12, 5000)"
      ]
     },
     "execution_count": 20,
     "metadata": {},
     "output_type": "execute_result"
    }
   ],
   "source": [
    "data.shape #consists voltage vals from all the leads"
   ]
  },
  {
   "cell_type": "code",
   "execution_count": 21,
   "id": "79361e43",
   "metadata": {},
   "outputs": [
    {
     "data": {
      "text/plain": [
       "array([[ 66.,  97.,  96., ..., 263., 248., 274.],\n",
       "       [117., 171., 167., ..., 437., 415., 457.],\n",
       "       [ 50.,  74.,  71., ..., 174., 167., 183.],\n",
       "       ...,\n",
       "       [247., 362., 347., ..., 805., 754., 817.],\n",
       "       [209., 311., 301., ..., 722., 675., 733.],\n",
       "       [186., 274., 261., ..., 480., 450., 494.]])"
      ]
     },
     "execution_count": 21,
     "metadata": {},
     "output_type": "execute_result"
    }
   ],
   "source": [
    "data "
   ]
  },
  {
   "cell_type": "code",
   "execution_count": 22,
   "id": "9648e38e",
   "metadata": {},
   "outputs": [
    {
     "data": {
      "text/plain": [
       "['Q2503 12 500 5000 15-May-2020 15:35:30\\n',\n",
       " 'Q2503.mat 16+24 1000/mV 16 0 66 -68 0 I\\n',\n",
       " 'Q2503.mat 16+24 1000/mV 16 0 117 -94 0 II\\n',\n",
       " 'Q2503.mat 16+24 1000/mV 16 0 50 -40 0 III\\n',\n",
       " 'Q2503.mat 16+24 1000/mV 16 0 -92 66 0 aVR\\n',\n",
       " 'Q2503.mat 16+24 1000/mV 16 0 8 7 0 aVL\\n',\n",
       " 'Q2503.mat 16+24 1000/mV 16 0 84 -36 0 aVF\\n',\n",
       " 'Q2503.mat 16+24 1000/mV 16 0 67 6 0 V1\\n',\n",
       " 'Q2503.mat 16+24 1000/mV 16 0 328 -98 0 V2\\n',\n",
       " 'Q2503.mat 16+24 1000/mV 16 0 279 -155 0 V3\\n',\n",
       " 'Q2503.mat 16+24 1000/mV 16 0 247 -117 0 V4\\n',\n",
       " 'Q2503.mat 16+24 1000/mV 16 0 209 -109 0 V5\\n',\n",
       " 'Q2503.mat 16+24 1000/mV 16 0 186 -101 0 V6\\n',\n",
       " '#Age: 23\\n',\n",
       " '#Sex: Male\\n',\n",
       " '#Dx: 164865005,164931005\\n',\n",
       " '#Rx: Unknown\\n',\n",
       " '#Hx: Unknown\\n',\n",
       " '#Sx: Unknown\\n']"
      ]
     },
     "execution_count": 22,
     "metadata": {},
     "output_type": "execute_result"
    }
   ],
   "source": [
    "header_data "
   ]
  },
  {
   "cell_type": "markdown",
   "id": "39529b5b",
   "metadata": {},
   "source": [
    "## Explanation of header data:\n",
    "\n",
    "\n",
    "\n",
    "### Q2503 12 500 5000 15-May-2020 15:35:30:\n",
    "\n",
    "This line indicates general information about the ECG recording, including:\n",
    "- the patient identifier (Q2503), \n",
    "- the number of leads (12), \n",
    "- the sampling rate (500 samples per second), \n",
    "- the number of samples (5000), and \n",
    "- the date and time of the recording.\n",
    "\n",
    "\n",
    "\n",
    "### Q2503.mat 16+24 1000/mV 16 0 66 -68 0 I:\n",
    "\n",
    "This line represents lead I of the ECG recording. The values indicate :\n",
    "- the file name ('Q2503.mat'), \n",
    "- the gain (16+24), \n",
    "- the calibration (1000/mV), \n",
    "- the baseline (16), and \n",
    "- the voltage values for each sample point.\n",
    "\n",
    "<b>Note:</b>: Its the same for other 11 leads too\n",
    "\n",
    "### #Age: 23': \n",
    "This line indicates the age of the patient (23 years old).\n",
    "\n",
    "### #Sex: Male: \n",
    "This line indicates the gender of the patient (Male).\n",
    "\n",
    "### #Dx: 164865005,164931005: \n",
    "This line indicates the diagnosis codes associated with the patient's condition. The specific codes provided here are not explained in the given data.\n",
    "\n",
    "### #Rx: Unknown: \n",
    "This line indicates that the information about the patient's prescribed medications is unknown.\n",
    "\n",
    "### #Hx: Unknown: \n",
    "This line indicates that the information about the patient's medical history is unknown.\n",
    "\n",
    "### #Sx: Unknown: \n",
    "This line indicates that the information about the patient's symptoms is unknown."
   ]
  },
  {
   "cell_type": "markdown",
   "id": "bc2cec28",
   "metadata": {},
   "source": [
    "# Steps followed:\n",
    "\n",
    "## Step 1:\n",
    "\n",
    "Extracted only the relevant lead information from the raw ecg\n",
    "\n",
    "## Step 2:\n",
    "\n",
    "Extracted R peaks for further extraction of S peaks and T onsets \n",
    "\n",
    "## Step 3:\n",
    "\n",
    "Calculated the ST segment using the S peaks and T onset\n",
    "\n",
    "## Step 4:\n",
    "\n",
    "Derived the elevation of the St segment by comparing the max value in ST segment with the baseline value\n",
    "\n",
    "## Step 5:\n",
    "\n",
    "If the ST elevation >= 1 mm for male and 0.5 mm for female, check if 2 or more contiguous leads portray such behaviour. If yes, consider that as a possibility for MI"
   ]
  },
  {
   "cell_type": "markdown",
   "id": "2e590130",
   "metadata": {},
   "source": [
    "# Implementation of the above steps"
   ]
  },
  {
   "cell_type": "markdown",
   "id": "28f59665",
   "metadata": {},
   "source": [
    "## Defining a few fixed variables"
   ]
  },
  {
   "cell_type": "code",
   "execution_count": 6,
   "id": "afe309da",
   "metadata": {},
   "outputs": [],
   "source": [
    "#these vals are the same for this dataset, hence defining it already, if not read it from header_data\n",
    "\n",
    "baseline = 16\n",
    "sr = 500\n",
    "calib = 1000\n",
    "cont_1 = set(['v1','v2','v3','v4','v5','v6']) #contiguous leads (limb)\n",
    "cont_2 = set(['lead_2','lead_3','avf']) #contiguous leads (chest)"
   ]
  },
  {
   "cell_type": "markdown",
   "id": "d7c90dba",
   "metadata": {},
   "source": [
    "## Actual Calculation"
   ]
  },
  {
   "cell_type": "code",
   "execution_count": 7,
   "id": "6928a39b",
   "metadata": {},
   "outputs": [],
   "source": [
    "m = random.randint(0,len(path_mat)-11)"
   ]
  },
  {
   "cell_type": "code",
   "execution_count": 8,
   "id": "e2da7442",
   "metadata": {
    "scrolled": false
   },
   "outputs": [
    {
     "name": "stdout",
     "output_type": "stream",
     "text": [
      "Calculating ST elevation for Training_2\\Q0325.mat\n",
      "ST for {'v5', 'v3', 'v2', 'v6', 'v4'} leads greater than the threshold for Male ! Might be MI.\n",
      "\n",
      "Calculating ST elevation for Training_2\\Q0326.mat\n",
      "ST for {'v5', 'v3', 'v2', 'v6', 'v4'} leads greater than the threshold for Female ! Might be MI.\n",
      "\n",
      "Calculating ST elevation for Training_2\\Q0327.mat\n",
      "ST for {'v5', 'v3', 'v2', 'v6', 'v4'} leads greater than the threshold for Female ! Might be MI.\n",
      "\n",
      "Calculating ST elevation for Training_2\\Q0328.mat\n",
      "ST for {'v5', 'v3', 'v2', 'v6', 'v4'} leads greater than the threshold for Female ! Might be MI.\n",
      "\n",
      "Calculating ST elevation for Training_2\\Q0329.mat\n",
      "ST for {'v5', 'v6', 'v3', 'v4'} leads greater than the threshold for Male ! Might be MI.\n",
      "\n",
      "Calculating ST elevation for Training_2\\Q0330.mat\n",
      "ST for {'v5', 'v3', 'v2', 'v6', 'v4'} leads greater than the threshold for Male ! Might be MI.\n",
      "\n",
      "Calculating ST elevation for Training_2\\Q0331.mat\n",
      "ST for {'v5', 'v6', 'v3', 'v4'} leads greater than the threshold for Male ! Might be MI.\n",
      "\n",
      "Calculating ST elevation for Training_2\\Q0332.mat\n",
      "ST for {'v5', 'v3', 'v2', 'v6', 'v4'} leads greater than the threshold for Female ! Might be MI.\n",
      "\n",
      "Calculating ST elevation for Training_2\\Q0333.mat\n",
      "ST for {'v5', 'v3', 'v2', 'v6', 'v4'} leads greater than the threshold for Male ! Might be MI.\n",
      "\n",
      "Calculating ST elevation for Training_2\\Q0334.mat\n",
      "ST for {'v5', 'v3', 'v2', 'v6', 'v4'} leads greater than the threshold for Female ! Might be MI.\n",
      "\n"
     ]
    }
   ],
   "source": [
    "for i in range(m,m+10):\n",
    "    count = 0\n",
    "    leads = []\n",
    "    ecg = path_mat[i]\n",
    "    print(f'Calculating ST elevation for {ecg}')\n",
    "    extracted_data = load_data(ecg,calib)\n",
    "    gender = extracted_data[-2]\n",
    "\n",
    "    for lead in extracted_data[0].keys():\n",
    "\n",
    "        _, rpeaks = nk.ecg_peaks(extracted_data[0][lead], sampling_rate=sr) #calculate R-peaks\n",
    "        _, waves_peak = nk.ecg_delineate(extracted_data[0][lead], \n",
    "                                 rpeaks, \n",
    "                                 sampling_rate=sr, \n",
    "                                 method=\"dwt\", \n",
    "                                 show=False, \n",
    "                                 show_type='all')\n",
    "        \n",
    "        for s,t in zip(waves_peak['ECG_S_Peaks'],waves_peak['ECG_T_Onsets']):\n",
    "            if str(s) != 'nan' and str(t) != 'nan':\n",
    "                st_segment_values = extracted_data[0][lead][baseline: t]\n",
    "                \n",
    "                if st_segment_values.shape[0] > 0:\n",
    "                    st_elevation = calculate_ST_elevation(st_segment_values,extracted_data[0][lead][baseline])\n",
    "                    break\n",
    "                else:\n",
    "                    pass\n",
    "            else:\n",
    "                pass\n",
    "  \n",
    "        if st_elevation >= 0.1 and gender == 'Male':\n",
    "            count+=1\n",
    "            leads.append(lead)\n",
    "        elif st_elevation >= 0.05 and gender == 'Female':\n",
    "            count+=1\n",
    "            leads.append(lead)\n",
    "        else:\n",
    "            pass\n",
    "        \n",
    "    leads = set(leads)    \n",
    "    if len(cont_1.intersection(leads)) >= 2:\n",
    "        print(f'ST for {cont_1.intersection(leads)} leads greater than the threshold for {gender} ! Might be MI.')\n",
    "        print()\n",
    "    elif len(cont_2.intersection(leads)) >=2:\n",
    "        print(f'ST for {cont_2.intersection(leads)} leads greater than the threshold for {gender} ! Might be MI.')\n",
    "        print()\n",
    "    else:\n",
    "        print(f'insignificant ST ({cont_1.intersection(leads)}) for {gender}. No possibilities of MI.')\n",
    "        print()"
   ]
  },
  {
   "cell_type": "code",
   "execution_count": null,
   "id": "b6fe7b34",
   "metadata": {},
   "outputs": [],
   "source": []
  }
 ],
 "metadata": {
  "kernelspec": {
   "display_name": "Python 3 (ipykernel)",
   "language": "python",
   "name": "python3"
  },
  "language_info": {
   "codemirror_mode": {
    "name": "ipython",
    "version": 3
   },
   "file_extension": ".py",
   "mimetype": "text/x-python",
   "name": "python",
   "nbconvert_exporter": "python",
   "pygments_lexer": "ipython3",
   "version": "3.9.13"
  }
 },
 "nbformat": 4,
 "nbformat_minor": 5
}
