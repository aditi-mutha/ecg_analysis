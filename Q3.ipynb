{
 "cells": [
  {
   "cell_type": "markdown",
   "id": "9fd4c40b",
   "metadata": {},
   "source": [
    "# Import libraries and define a few variables\n"
   ]
  },
  {
   "cell_type": "code",
   "execution_count": 1,
   "id": "3d067f3a",
   "metadata": {},
   "outputs": [],
   "source": [
    "#!pip install tensorflow_addons"
   ]
  },
  {
   "cell_type": "code",
   "execution_count": 2,
   "id": "685b4841",
   "metadata": {},
   "outputs": [
    {
     "name": "stderr",
     "output_type": "stream",
     "text": [
      "C:\\Users\\aditi\\anaconda3\\lib\\site-packages\\tensorflow_addons\\utils\\tfa_eol_msg.py:23: UserWarning: \n",
      "\n",
      "TensorFlow Addons (TFA) has ended development and introduction of new features.\n",
      "TFA has entered a minimal maintenance and release mode until a planned end of life in May 2024.\n",
      "Please modify downstream libraries to take dependencies from other repositories in our TensorFlow community (e.g. Keras, Keras-CV, and Keras-NLP). \n",
      "\n",
      "For more information see: https://github.com/tensorflow/addons/issues/2807 \n",
      "\n",
      "  warnings.warn(\n"
     ]
    }
   ],
   "source": [
    "import matplotlib.pyplot as plt\n",
    "import numpy as np\n",
    "import os \n",
    "import random\n",
    "import warnings\n",
    "import pandas as pd\n",
    "import tensorflow as tf\n",
    "import keras\n",
    "import tensorflow.keras as keras\n",
    "import tensorflow_addons as tfa\n",
    "\n",
    "from scipy.io import loadmat\n",
    "from glob import glob\n",
    "from datetime import datetime\n",
    "from tqdm.notebook import tqdm\n",
    "from sklearn.model_selection import train_test_split\n",
    "from sklearn.preprocessing import StandardScaler as SS\n",
    "from sklearn.preprocessing import LabelEncoder\n",
    "from tensorflow.keras.utils import to_categorical\n",
    "from tensorflow.keras.models import Sequential, Model\n",
    "from tensorflow.keras.layers import Dense, Flatten, Dropout, GlobalMaxPooling1D, Conv1D, ReLU, LeakyReLU, MaxPooling1D, BatchNormalization, GlobalAveragePooling1D, Concatenate, Reshape, Input\n",
    "from tensorflow.keras.utils import to_categorical\n",
    "from tensorflow.keras.callbacks import ModelCheckpoint, ReduceLROnPlateau, EarlyStopping\n",
    "\n",
    "warnings.filterwarnings('ignore')"
   ]
  },
  {
   "cell_type": "code",
   "execution_count": 3,
   "id": "06e33d6c",
   "metadata": {},
   "outputs": [
    {
     "data": {
      "text/plain": [
       "3453"
      ]
     },
     "execution_count": 3,
     "metadata": {},
     "output_type": "execute_result"
    }
   ],
   "source": [
    "path_mat = glob('Training_2/*.mat')\n",
    "len(path_mat)"
   ]
  },
  {
   "cell_type": "markdown",
   "id": "ea19b4a6",
   "metadata": {},
   "source": [
    "# Function for loading data"
   ]
  },
  {
   "cell_type": "code",
   "execution_count": 4,
   "id": "4e0b9e9a",
   "metadata": {},
   "outputs": [],
   "source": [
    "def load_data(filename,calib):\n",
    "    \n",
    "    x = loadmat(filename)\n",
    "    data = np.asarray(x['val'], dtype=np.float64)\n",
    "    \n",
    "    lead_1 = data[0]/calib    \n",
    "    lead_2 = data[1]/calib\n",
    "    lead_3 = data[2]/calib\n",
    "\n",
    "    avr = data[3]/calib\n",
    "    avl = data[4]/calib\n",
    "    avf = data[5]/calib\n",
    "\n",
    "    v1 = data[6]/calib\n",
    "    v2 = data[7]/calib\n",
    "    v3 = data[8]/calib\n",
    "    v4 = data[9]/calib\n",
    "    v5 = data[10]/calib\n",
    "    v6 = data[11]/calib\n",
    "    \n",
    "    new_file = filename.replace('.mat','.hea')\n",
    "    input_header_file = os.path.join(new_file)\n",
    "    with open(input_header_file,'r') as f:\n",
    "        header_data=f.readlines()\n",
    "        \n",
    "    gender = header_data[-5][6:].split('\\n')[0]\n",
    "    \n",
    "    dict_1 = {'lead_1': lead_1,\n",
    "              'lead_2': lead_2,\n",
    "              'lead_3': lead_3,\n",
    "              'avr': avr,\n",
    "              'avl': avl,\n",
    "              'avf': avf,\n",
    "              'v1': v1,\n",
    "              'v2': v2,\n",
    "              'v3': v3,\n",
    "              'v4': v4,\n",
    "              'v5': v5,\n",
    "              'v6': v6} \n",
    "    \n",
    "    return dict(dict_1) ,gender,header_data"
   ]
  },
  {
   "cell_type": "markdown",
   "id": "bf8ad5d8",
   "metadata": {},
   "source": [
    "# Fixed variables"
   ]
  },
  {
   "cell_type": "code",
   "execution_count": 5,
   "id": "dee41e6c",
   "metadata": {},
   "outputs": [],
   "source": [
    "baseline = 16\n",
    "sr = 500\n",
    "calib = 1000"
   ]
  },
  {
   "cell_type": "markdown",
   "id": "c342d47b",
   "metadata": {},
   "source": [
    "# Creating dataset\n",
    "\n",
    "\n",
    "### (Used only peaks,onsets and offsets as variables and created a dataframe with lead name as target variable)\n",
    "\n",
    "<b>Note:</b> Takes a lot of time to generate dataframe, do not run"
   ]
  },
  {
   "cell_type": "code",
   "execution_count": 5,
   "id": "a84fba11",
   "metadata": {
    "scrolled": true
   },
   "outputs": [
    {
     "data": {
      "application/vnd.jupyter.widget-view+json": {
       "model_id": "a4ddb7c897fc4e93a8a90199ee72b719",
       "version_major": 2,
       "version_minor": 0
      },
      "text/plain": [
       "  0%|          | 0/100 [00:00<?, ?it/s]"
      ]
     },
     "metadata": {},
     "output_type": "display_data"
    },
    {
     "name": "stdout",
     "output_type": "stream",
     "text": [
      "Training_2\\Q0001.mat\n",
      "Training_2\\Q0002.mat\n",
      "Training_2\\Q0003.mat\n",
      "Training_2\\Q0004.mat\n",
      "Training_2\\Q0005.mat\n",
      "Training_2\\Q0006.mat\n",
      "Training_2\\Q0007.mat\n",
      "Training_2\\Q0010.mat\n",
      "Training_2\\Q0011.mat\n",
      "Training_2\\Q0012.mat\n",
      "Training_2\\Q0013.mat\n",
      "Training_2\\Q0014.mat\n",
      "Training_2\\Q0015.mat\n",
      "Training_2\\Q0016.mat\n",
      "Training_2\\Q0017.mat\n",
      "Training_2\\Q0018.mat\n",
      "Training_2\\Q0019.mat\n",
      "Training_2\\Q0020.mat\n",
      "Training_2\\Q0021.mat\n",
      "Training_2\\Q0022.mat\n",
      "Training_2\\Q0023.mat\n",
      "Training_2\\Q0024.mat\n",
      "Training_2\\Q0025.mat\n",
      "Training_2\\Q0026.mat\n",
      "Training_2\\Q0027.mat\n",
      "Training_2\\Q0028.mat\n",
      "Training_2\\Q0029.mat\n",
      "Training_2\\Q0030.mat\n",
      "Training_2\\Q0031.mat\n",
      "Training_2\\Q0032.mat\n",
      "Training_2\\Q0033.mat\n",
      "Training_2\\Q0034.mat\n",
      "Training_2\\Q0035.mat\n",
      "Training_2\\Q0036.mat\n",
      "Training_2\\Q0037.mat\n",
      "Training_2\\Q0038.mat\n",
      "Training_2\\Q0039.mat\n",
      "Training_2\\Q0040.mat\n",
      "Training_2\\Q0041.mat\n",
      "Training_2\\Q0042.mat\n",
      "Training_2\\Q0043.mat\n",
      "Training_2\\Q0044.mat\n",
      "Training_2\\Q0045.mat\n",
      "Training_2\\Q0046.mat\n",
      "Training_2\\Q0047.mat\n",
      "Training_2\\Q0048.mat\n",
      "Training_2\\Q0049.mat\n",
      "Training_2\\Q0050.mat\n",
      "Training_2\\Q0051.mat\n",
      "Training_2\\Q0052.mat\n",
      "Training_2\\Q0053.mat\n",
      "Training_2\\Q0054.mat\n",
      "Training_2\\Q0055.mat\n",
      "Training_2\\Q0056.mat\n",
      "Training_2\\Q0057.mat\n",
      "Training_2\\Q0058.mat\n",
      "Training_2\\Q0059.mat\n",
      "Training_2\\Q0060.mat\n",
      "Training_2\\Q0061.mat\n",
      "Training_2\\Q0062.mat\n",
      "Training_2\\Q0063.mat\n",
      "Training_2\\Q0064.mat\n",
      "Training_2\\Q0065.mat\n",
      "Training_2\\Q0066.mat\n",
      "Training_2\\Q0067.mat\n",
      "Training_2\\Q0068.mat\n",
      "Training_2\\Q0069.mat\n",
      "Training_2\\Q0070.mat\n",
      "Training_2\\Q0071.mat\n",
      "Training_2\\Q0072.mat\n",
      "Training_2\\Q0073.mat\n",
      "Training_2\\Q0074.mat\n",
      "Training_2\\Q0075.mat\n",
      "Training_2\\Q0076.mat\n",
      "Training_2\\Q0077.mat\n",
      "Training_2\\Q0078.mat\n",
      "Training_2\\Q0079.mat\n",
      "Training_2\\Q0080.mat\n",
      "Training_2\\Q0081.mat\n",
      "Training_2\\Q0082.mat\n",
      "Training_2\\Q0083.mat\n",
      "Training_2\\Q0084.mat\n",
      "Training_2\\Q0085.mat\n",
      "Training_2\\Q0086.mat\n",
      "Training_2\\Q0087.mat\n",
      "Training_2\\Q0088.mat\n",
      "Training_2\\Q0089.mat\n",
      "Training_2\\Q0090.mat\n",
      "Training_2\\Q0091.mat\n",
      "Training_2\\Q0092.mat\n",
      "Training_2\\Q0093.mat\n",
      "Training_2\\Q0094.mat\n",
      "Training_2\\Q0095.mat\n",
      "Training_2\\Q0096.mat\n",
      "Training_2\\Q0097.mat\n",
      "Training_2\\Q0098.mat\n",
      "Training_2\\Q0099.mat\n",
      "Training_2\\Q0100.mat\n",
      "Training_2\\Q0101.mat\n",
      "Training_2\\Q0102.mat\n"
     ]
    }
   ],
   "source": [
    "final_df=pd.DataFrame()\n",
    "final_df_2=pd.DataFrame()\n",
    "\n",
    "for file in tqdm(path_mat[:100]): #could't take all as the dataframe was taking a very long time to load\n",
    "    print(file)\n",
    "    extracted_data = load_data(file,calib)\n",
    "    leads = extracted_data[0]\n",
    "    for key in leads.keys():\n",
    "        try:\n",
    "            _, rpeaks = nk.ecg_peaks(leads[key], sampling_rate=sr)\n",
    "            _, waves_peak = nk.ecg_delineate(leads[key], \n",
    "                                             rpeaks, \n",
    "                                             sampling_rate=sr, \n",
    "                                             method=\"dwt\", \n",
    "                                             show=False, \n",
    "                                             show_type='all')\n",
    "        \n",
    "            df = pd.DataFrame(waves_peak)                       \n",
    "            df['Lead'] = key                  \n",
    "            \n",
    "                \n",
    "            final_df = final_df.append(df, ignore_index=True)\n",
    "        except:\n",
    "            pass      \n",
    "    final_df_2 = final_df_2.append(final_df, ignore_index=True)"
   ]
  },
  {
   "cell_type": "code",
   "execution_count": 8,
   "id": "fcd1cc59",
   "metadata": {},
   "outputs": [
    {
     "data": {
      "text/html": [
       "<div>\n",
       "<style scoped>\n",
       "    .dataframe tbody tr th:only-of-type {\n",
       "        vertical-align: middle;\n",
       "    }\n",
       "\n",
       "    .dataframe tbody tr th {\n",
       "        vertical-align: top;\n",
       "    }\n",
       "\n",
       "    .dataframe thead th {\n",
       "        text-align: right;\n",
       "    }\n",
       "</style>\n",
       "<table border=\"1\" class=\"dataframe\">\n",
       "  <thead>\n",
       "    <tr style=\"text-align: right;\">\n",
       "      <th></th>\n",
       "      <th>ECG_P_Peaks</th>\n",
       "      <th>ECG_P_Onsets</th>\n",
       "      <th>ECG_P_Offsets</th>\n",
       "      <th>ECG_Q_Peaks</th>\n",
       "      <th>ECG_R_Onsets</th>\n",
       "      <th>ECG_R_Offsets</th>\n",
       "      <th>ECG_S_Peaks</th>\n",
       "      <th>ECG_T_Peaks</th>\n",
       "      <th>ECG_T_Onsets</th>\n",
       "      <th>ECG_T_Offsets</th>\n",
       "      <th>Lead</th>\n",
       "    </tr>\n",
       "  </thead>\n",
       "  <tbody>\n",
       "    <tr>\n",
       "      <th>0</th>\n",
       "      <td>2397.0</td>\n",
       "      <td>2383.0</td>\n",
       "      <td>2409.0</td>\n",
       "      <td>2435.0</td>\n",
       "      <td>2427.0</td>\n",
       "      <td>2482.0</td>\n",
       "      <td>2473.0</td>\n",
       "      <td>2527.0</td>\n",
       "      <td>2519.0</td>\n",
       "      <td>2538.0</td>\n",
       "      <td>lead_1</td>\n",
       "    </tr>\n",
       "    <tr>\n",
       "      <th>1</th>\n",
       "      <td>646.0</td>\n",
       "      <td>641.0</td>\n",
       "      <td>658.0</td>\n",
       "      <td>692.0</td>\n",
       "      <td>683.0</td>\n",
       "      <td>729.0</td>\n",
       "      <td>721.0</td>\n",
       "      <td>849.0</td>\n",
       "      <td>826.0</td>\n",
       "      <td>860.0</td>\n",
       "      <td>lead_2</td>\n",
       "    </tr>\n",
       "    <tr>\n",
       "      <th>2</th>\n",
       "      <td>1234.0</td>\n",
       "      <td>1229.0</td>\n",
       "      <td>1245.0</td>\n",
       "      <td>1281.0</td>\n",
       "      <td>1271.0</td>\n",
       "      <td>1317.0</td>\n",
       "      <td>1309.0</td>\n",
       "      <td>1384.0</td>\n",
       "      <td>1378.0</td>\n",
       "      <td>1393.0</td>\n",
       "      <td>lead_2</td>\n",
       "    </tr>\n",
       "    <tr>\n",
       "      <th>3</th>\n",
       "      <td>1523.0</td>\n",
       "      <td>1518.0</td>\n",
       "      <td>1537.0</td>\n",
       "      <td>1569.0</td>\n",
       "      <td>1560.0</td>\n",
       "      <td>1606.0</td>\n",
       "      <td>1598.0</td>\n",
       "      <td>1647.0</td>\n",
       "      <td>1638.0</td>\n",
       "      <td>1654.0</td>\n",
       "      <td>lead_2</td>\n",
       "    </tr>\n",
       "    <tr>\n",
       "      <th>4</th>\n",
       "      <td>2107.0</td>\n",
       "      <td>2102.0</td>\n",
       "      <td>2118.0</td>\n",
       "      <td>2153.0</td>\n",
       "      <td>2144.0</td>\n",
       "      <td>2190.0</td>\n",
       "      <td>2182.0</td>\n",
       "      <td>2310.0</td>\n",
       "      <td>2298.0</td>\n",
       "      <td>2323.0</td>\n",
       "      <td>lead_2</td>\n",
       "    </tr>\n",
       "    <tr>\n",
       "      <th>...</th>\n",
       "      <td>...</td>\n",
       "      <td>...</td>\n",
       "      <td>...</td>\n",
       "      <td>...</td>\n",
       "      <td>...</td>\n",
       "      <td>...</td>\n",
       "      <td>...</td>\n",
       "      <td>...</td>\n",
       "      <td>...</td>\n",
       "      <td>...</td>\n",
       "      <td>...</td>\n",
       "    </tr>\n",
       "    <tr>\n",
       "      <th>1224327</th>\n",
       "      <td>2514.0</td>\n",
       "      <td>2491.0</td>\n",
       "      <td>2522.0</td>\n",
       "      <td>2576.0</td>\n",
       "      <td>2564.0</td>\n",
       "      <td>2608.0</td>\n",
       "      <td>2599.0</td>\n",
       "      <td>2730.0</td>\n",
       "      <td>2688.0</td>\n",
       "      <td>2757.0</td>\n",
       "      <td>v6</td>\n",
       "    </tr>\n",
       "    <tr>\n",
       "      <th>1224328</th>\n",
       "      <td>2963.0</td>\n",
       "      <td>2941.0</td>\n",
       "      <td>2972.0</td>\n",
       "      <td>3026.0</td>\n",
       "      <td>3020.0</td>\n",
       "      <td>3058.0</td>\n",
       "      <td>3049.0</td>\n",
       "      <td>3180.0</td>\n",
       "      <td>3137.0</td>\n",
       "      <td>3208.0</td>\n",
       "      <td>v6</td>\n",
       "    </tr>\n",
       "    <tr>\n",
       "      <th>1224329</th>\n",
       "      <td>3409.0</td>\n",
       "      <td>3384.0</td>\n",
       "      <td>3418.0</td>\n",
       "      <td>3472.0</td>\n",
       "      <td>3465.0</td>\n",
       "      <td>3504.0</td>\n",
       "      <td>3495.0</td>\n",
       "      <td>3625.0</td>\n",
       "      <td>3610.0</td>\n",
       "      <td>3666.0</td>\n",
       "      <td>v6</td>\n",
       "    </tr>\n",
       "    <tr>\n",
       "      <th>1224330</th>\n",
       "      <td>3847.0</td>\n",
       "      <td>3841.0</td>\n",
       "      <td>3855.0</td>\n",
       "      <td>3909.0</td>\n",
       "      <td>3903.0</td>\n",
       "      <td>3941.0</td>\n",
       "      <td>3932.0</td>\n",
       "      <td>4062.0</td>\n",
       "      <td>4020.0</td>\n",
       "      <td>4090.0</td>\n",
       "      <td>v6</td>\n",
       "    </tr>\n",
       "    <tr>\n",
       "      <th>1224331</th>\n",
       "      <td>4288.0</td>\n",
       "      <td>4271.0</td>\n",
       "      <td>4296.0</td>\n",
       "      <td>4351.0</td>\n",
       "      <td>4346.0</td>\n",
       "      <td>4383.0</td>\n",
       "      <td>4374.0</td>\n",
       "      <td>4504.0</td>\n",
       "      <td>4461.0</td>\n",
       "      <td>4530.0</td>\n",
       "      <td>v6</td>\n",
       "    </tr>\n",
       "  </tbody>\n",
       "</table>\n",
       "<p>1224332 rows × 11 columns</p>\n",
       "</div>"
      ],
      "text/plain": [
       "         ECG_P_Peaks  ECG_P_Onsets  ECG_P_Offsets  ECG_Q_Peaks  ECG_R_Onsets  \\\n",
       "0             2397.0        2383.0         2409.0       2435.0        2427.0   \n",
       "1              646.0         641.0          658.0        692.0         683.0   \n",
       "2             1234.0        1229.0         1245.0       1281.0        1271.0   \n",
       "3             1523.0        1518.0         1537.0       1569.0        1560.0   \n",
       "4             2107.0        2102.0         2118.0       2153.0        2144.0   \n",
       "...              ...           ...            ...          ...           ...   \n",
       "1224327       2514.0        2491.0         2522.0       2576.0        2564.0   \n",
       "1224328       2963.0        2941.0         2972.0       3026.0        3020.0   \n",
       "1224329       3409.0        3384.0         3418.0       3472.0        3465.0   \n",
       "1224330       3847.0        3841.0         3855.0       3909.0        3903.0   \n",
       "1224331       4288.0        4271.0         4296.0       4351.0        4346.0   \n",
       "\n",
       "         ECG_R_Offsets  ECG_S_Peaks  ECG_T_Peaks  ECG_T_Onsets  ECG_T_Offsets  \\\n",
       "0               2482.0       2473.0       2527.0        2519.0         2538.0   \n",
       "1                729.0        721.0        849.0         826.0          860.0   \n",
       "2               1317.0       1309.0       1384.0        1378.0         1393.0   \n",
       "3               1606.0       1598.0       1647.0        1638.0         1654.0   \n",
       "4               2190.0       2182.0       2310.0        2298.0         2323.0   \n",
       "...                ...          ...          ...           ...            ...   \n",
       "1224327         2608.0       2599.0       2730.0        2688.0         2757.0   \n",
       "1224328         3058.0       3049.0       3180.0        3137.0         3208.0   \n",
       "1224329         3504.0       3495.0       3625.0        3610.0         3666.0   \n",
       "1224330         3941.0       3932.0       4062.0        4020.0         4090.0   \n",
       "1224331         4383.0       4374.0       4504.0        4461.0         4530.0   \n",
       "\n",
       "           Lead  \n",
       "0        lead_1  \n",
       "1        lead_2  \n",
       "2        lead_2  \n",
       "3        lead_2  \n",
       "4        lead_2  \n",
       "...         ...  \n",
       "1224327      v6  \n",
       "1224328      v6  \n",
       "1224329      v6  \n",
       "1224330      v6  \n",
       "1224331      v6  \n",
       "\n",
       "[1224332 rows x 11 columns]"
      ]
     },
     "execution_count": 8,
     "metadata": {},
     "output_type": "execute_result"
    }
   ],
   "source": [
    "df2 = final_df_2.dropna()\n",
    "df2 = df2.reset_index(drop=True)\n",
    "df2"
   ]
  },
  {
   "cell_type": "code",
   "execution_count": 9,
   "id": "e8ac483e",
   "metadata": {},
   "outputs": [],
   "source": [
    "#df2.to_csv('data.csv')"
   ]
  },
  {
   "cell_type": "markdown",
   "id": "66e76bd3",
   "metadata": {},
   "source": [
    "# Reading data"
   ]
  },
  {
   "cell_type": "code",
   "execution_count": 6,
   "id": "7e42882c",
   "metadata": {},
   "outputs": [],
   "source": [
    "df_ = pd.read_csv('data.csv',index_col=[0])"
   ]
  },
  {
   "cell_type": "code",
   "execution_count": 7,
   "id": "e056de65",
   "metadata": {},
   "outputs": [
    {
     "data": {
      "text/html": [
       "<div>\n",
       "<style scoped>\n",
       "    .dataframe tbody tr th:only-of-type {\n",
       "        vertical-align: middle;\n",
       "    }\n",
       "\n",
       "    .dataframe tbody tr th {\n",
       "        vertical-align: top;\n",
       "    }\n",
       "\n",
       "    .dataframe thead th {\n",
       "        text-align: right;\n",
       "    }\n",
       "</style>\n",
       "<table border=\"1\" class=\"dataframe\">\n",
       "  <thead>\n",
       "    <tr style=\"text-align: right;\">\n",
       "      <th></th>\n",
       "      <th>ECG_P_Peaks</th>\n",
       "      <th>ECG_P_Onsets</th>\n",
       "      <th>ECG_P_Offsets</th>\n",
       "      <th>ECG_Q_Peaks</th>\n",
       "      <th>ECG_R_Onsets</th>\n",
       "      <th>ECG_R_Offsets</th>\n",
       "      <th>ECG_S_Peaks</th>\n",
       "      <th>ECG_T_Peaks</th>\n",
       "      <th>ECG_T_Onsets</th>\n",
       "      <th>ECG_T_Offsets</th>\n",
       "      <th>Lead</th>\n",
       "    </tr>\n",
       "  </thead>\n",
       "  <tbody>\n",
       "    <tr>\n",
       "      <th>0</th>\n",
       "      <td>2397.0</td>\n",
       "      <td>2383.0</td>\n",
       "      <td>2409.0</td>\n",
       "      <td>2435.0</td>\n",
       "      <td>2427.0</td>\n",
       "      <td>2482.0</td>\n",
       "      <td>2473.0</td>\n",
       "      <td>2527.0</td>\n",
       "      <td>2519.0</td>\n",
       "      <td>2538.0</td>\n",
       "      <td>lead_1</td>\n",
       "    </tr>\n",
       "    <tr>\n",
       "      <th>1</th>\n",
       "      <td>646.0</td>\n",
       "      <td>641.0</td>\n",
       "      <td>658.0</td>\n",
       "      <td>692.0</td>\n",
       "      <td>683.0</td>\n",
       "      <td>729.0</td>\n",
       "      <td>721.0</td>\n",
       "      <td>849.0</td>\n",
       "      <td>826.0</td>\n",
       "      <td>860.0</td>\n",
       "      <td>lead_2</td>\n",
       "    </tr>\n",
       "    <tr>\n",
       "      <th>2</th>\n",
       "      <td>1234.0</td>\n",
       "      <td>1229.0</td>\n",
       "      <td>1245.0</td>\n",
       "      <td>1281.0</td>\n",
       "      <td>1271.0</td>\n",
       "      <td>1317.0</td>\n",
       "      <td>1309.0</td>\n",
       "      <td>1384.0</td>\n",
       "      <td>1378.0</td>\n",
       "      <td>1393.0</td>\n",
       "      <td>lead_2</td>\n",
       "    </tr>\n",
       "    <tr>\n",
       "      <th>3</th>\n",
       "      <td>1523.0</td>\n",
       "      <td>1518.0</td>\n",
       "      <td>1537.0</td>\n",
       "      <td>1569.0</td>\n",
       "      <td>1560.0</td>\n",
       "      <td>1606.0</td>\n",
       "      <td>1598.0</td>\n",
       "      <td>1647.0</td>\n",
       "      <td>1638.0</td>\n",
       "      <td>1654.0</td>\n",
       "      <td>lead_2</td>\n",
       "    </tr>\n",
       "    <tr>\n",
       "      <th>4</th>\n",
       "      <td>2107.0</td>\n",
       "      <td>2102.0</td>\n",
       "      <td>2118.0</td>\n",
       "      <td>2153.0</td>\n",
       "      <td>2144.0</td>\n",
       "      <td>2190.0</td>\n",
       "      <td>2182.0</td>\n",
       "      <td>2310.0</td>\n",
       "      <td>2298.0</td>\n",
       "      <td>2323.0</td>\n",
       "      <td>lead_2</td>\n",
       "    </tr>\n",
       "    <tr>\n",
       "      <th>...</th>\n",
       "      <td>...</td>\n",
       "      <td>...</td>\n",
       "      <td>...</td>\n",
       "      <td>...</td>\n",
       "      <td>...</td>\n",
       "      <td>...</td>\n",
       "      <td>...</td>\n",
       "      <td>...</td>\n",
       "      <td>...</td>\n",
       "      <td>...</td>\n",
       "      <td>...</td>\n",
       "    </tr>\n",
       "    <tr>\n",
       "      <th>1224327</th>\n",
       "      <td>2514.0</td>\n",
       "      <td>2491.0</td>\n",
       "      <td>2522.0</td>\n",
       "      <td>2576.0</td>\n",
       "      <td>2564.0</td>\n",
       "      <td>2608.0</td>\n",
       "      <td>2599.0</td>\n",
       "      <td>2730.0</td>\n",
       "      <td>2688.0</td>\n",
       "      <td>2757.0</td>\n",
       "      <td>v6</td>\n",
       "    </tr>\n",
       "    <tr>\n",
       "      <th>1224328</th>\n",
       "      <td>2963.0</td>\n",
       "      <td>2941.0</td>\n",
       "      <td>2972.0</td>\n",
       "      <td>3026.0</td>\n",
       "      <td>3020.0</td>\n",
       "      <td>3058.0</td>\n",
       "      <td>3049.0</td>\n",
       "      <td>3180.0</td>\n",
       "      <td>3137.0</td>\n",
       "      <td>3208.0</td>\n",
       "      <td>v6</td>\n",
       "    </tr>\n",
       "    <tr>\n",
       "      <th>1224329</th>\n",
       "      <td>3409.0</td>\n",
       "      <td>3384.0</td>\n",
       "      <td>3418.0</td>\n",
       "      <td>3472.0</td>\n",
       "      <td>3465.0</td>\n",
       "      <td>3504.0</td>\n",
       "      <td>3495.0</td>\n",
       "      <td>3625.0</td>\n",
       "      <td>3610.0</td>\n",
       "      <td>3666.0</td>\n",
       "      <td>v6</td>\n",
       "    </tr>\n",
       "    <tr>\n",
       "      <th>1224330</th>\n",
       "      <td>3847.0</td>\n",
       "      <td>3841.0</td>\n",
       "      <td>3855.0</td>\n",
       "      <td>3909.0</td>\n",
       "      <td>3903.0</td>\n",
       "      <td>3941.0</td>\n",
       "      <td>3932.0</td>\n",
       "      <td>4062.0</td>\n",
       "      <td>4020.0</td>\n",
       "      <td>4090.0</td>\n",
       "      <td>v6</td>\n",
       "    </tr>\n",
       "    <tr>\n",
       "      <th>1224331</th>\n",
       "      <td>4288.0</td>\n",
       "      <td>4271.0</td>\n",
       "      <td>4296.0</td>\n",
       "      <td>4351.0</td>\n",
       "      <td>4346.0</td>\n",
       "      <td>4383.0</td>\n",
       "      <td>4374.0</td>\n",
       "      <td>4504.0</td>\n",
       "      <td>4461.0</td>\n",
       "      <td>4530.0</td>\n",
       "      <td>v6</td>\n",
       "    </tr>\n",
       "  </tbody>\n",
       "</table>\n",
       "<p>1224332 rows × 11 columns</p>\n",
       "</div>"
      ],
      "text/plain": [
       "         ECG_P_Peaks  ECG_P_Onsets  ECG_P_Offsets  ECG_Q_Peaks  ECG_R_Onsets  \\\n",
       "0             2397.0        2383.0         2409.0       2435.0        2427.0   \n",
       "1              646.0         641.0          658.0        692.0         683.0   \n",
       "2             1234.0        1229.0         1245.0       1281.0        1271.0   \n",
       "3             1523.0        1518.0         1537.0       1569.0        1560.0   \n",
       "4             2107.0        2102.0         2118.0       2153.0        2144.0   \n",
       "...              ...           ...            ...          ...           ...   \n",
       "1224327       2514.0        2491.0         2522.0       2576.0        2564.0   \n",
       "1224328       2963.0        2941.0         2972.0       3026.0        3020.0   \n",
       "1224329       3409.0        3384.0         3418.0       3472.0        3465.0   \n",
       "1224330       3847.0        3841.0         3855.0       3909.0        3903.0   \n",
       "1224331       4288.0        4271.0         4296.0       4351.0        4346.0   \n",
       "\n",
       "         ECG_R_Offsets  ECG_S_Peaks  ECG_T_Peaks  ECG_T_Onsets  ECG_T_Offsets  \\\n",
       "0               2482.0       2473.0       2527.0        2519.0         2538.0   \n",
       "1                729.0        721.0        849.0         826.0          860.0   \n",
       "2               1317.0       1309.0       1384.0        1378.0         1393.0   \n",
       "3               1606.0       1598.0       1647.0        1638.0         1654.0   \n",
       "4               2190.0       2182.0       2310.0        2298.0         2323.0   \n",
       "...                ...          ...          ...           ...            ...   \n",
       "1224327         2608.0       2599.0       2730.0        2688.0         2757.0   \n",
       "1224328         3058.0       3049.0       3180.0        3137.0         3208.0   \n",
       "1224329         3504.0       3495.0       3625.0        3610.0         3666.0   \n",
       "1224330         3941.0       3932.0       4062.0        4020.0         4090.0   \n",
       "1224331         4383.0       4374.0       4504.0        4461.0         4530.0   \n",
       "\n",
       "           Lead  \n",
       "0        lead_1  \n",
       "1        lead_2  \n",
       "2        lead_2  \n",
       "3        lead_2  \n",
       "4        lead_2  \n",
       "...         ...  \n",
       "1224327      v6  \n",
       "1224328      v6  \n",
       "1224329      v6  \n",
       "1224330      v6  \n",
       "1224331      v6  \n",
       "\n",
       "[1224332 rows x 11 columns]"
      ]
     },
     "execution_count": 7,
     "metadata": {},
     "output_type": "execute_result"
    }
   ],
   "source": [
    "df_"
   ]
  },
  {
   "cell_type": "code",
   "execution_count": 8,
   "id": "50e2a823",
   "metadata": {},
   "outputs": [
    {
     "data": {
      "text/plain": [
       "ECG_P_Peaks      0\n",
       "ECG_P_Onsets     0\n",
       "ECG_P_Offsets    0\n",
       "ECG_Q_Peaks      0\n",
       "ECG_R_Onsets     0\n",
       "ECG_R_Offsets    0\n",
       "ECG_S_Peaks      0\n",
       "ECG_T_Peaks      0\n",
       "ECG_T_Onsets     0\n",
       "ECG_T_Offsets    0\n",
       "Lead             0\n",
       "dtype: int64"
      ]
     },
     "execution_count": 8,
     "metadata": {},
     "output_type": "execute_result"
    }
   ],
   "source": [
    "df_.isnull().sum()"
   ]
  },
  {
   "cell_type": "markdown",
   "id": "5b959360",
   "metadata": {},
   "source": [
    "# Preprocessing"
   ]
  },
  {
   "cell_type": "code",
   "execution_count": 9,
   "id": "19570ffc",
   "metadata": {},
   "outputs": [],
   "source": [
    "X = df_.drop('Lead', axis=1)\n",
    "y = df_['Lead']"
   ]
  },
  {
   "cell_type": "code",
   "execution_count": 10,
   "id": "d9200c2d",
   "metadata": {},
   "outputs": [],
   "source": [
    "y[y == 'lead_1'] = 0\n",
    "y[y == 'lead_2'] = 1\n",
    "y[y == 'lead_3'] = 2\n",
    "\n",
    "y[y == 'avr'] = 3\n",
    "y[y == 'avl'] = 4\n",
    "y[y == 'avf'] = 5\n",
    "\n",
    "y[y == 'v1'] = 6\n",
    "y[y == 'v2'] = 7\n",
    "y[y == 'v3'] = 8\n",
    "y[y == 'v4'] = 9\n",
    "y[y == 'v5'] = 10\n",
    "y[y == 'v6'] = 11"
   ]
  },
  {
   "cell_type": "code",
   "execution_count": 11,
   "id": "0c9c2515",
   "metadata": {},
   "outputs": [],
   "source": [
    "labelencoder = LabelEncoder()\n",
    "y_ = to_categorical(labelencoder.fit_transform(y))"
   ]
  },
  {
   "cell_type": "code",
   "execution_count": 12,
   "id": "d95068b1",
   "metadata": {},
   "outputs": [],
   "source": [
    "scaler_train, scaler_test = SS(), SS()\n",
    "X_ss = scaler_train.fit_transform(X)"
   ]
  },
  {
   "cell_type": "code",
   "execution_count": 13,
   "id": "cc03d2a3",
   "metadata": {},
   "outputs": [],
   "source": [
    "X_train, X_test, y_train, y_test = train_test_split(X_ss, y_, test_size=0.2, random_state=42)\n",
    "X_train, X_val, y_train, y_val = train_test_split(X_train, y_train, test_size=0.2, random_state=42,stratify = y_train)"
   ]
  },
  {
   "cell_type": "code",
   "execution_count": 14,
   "id": "aa020430",
   "metadata": {},
   "outputs": [
    {
     "data": {
      "text/plain": [
       "array([[-0.65978373, -0.6600378 , -0.65953991, ..., -0.65339221,\n",
       "        -0.65761487, -0.65089389],\n",
       "       [-0.31176089, -0.31157902, -0.30831582, ..., -0.30813266,\n",
       "        -0.30747357, -0.30945282],\n",
       "       [-0.06555405, -0.0650823 , -0.06512571, ..., -0.07281102,\n",
       "        -0.07106762, -0.07491082],\n",
       "       ...,\n",
       "       [ 0.7165504 ,  0.71773794,  0.71944647, ...,  0.71250304,\n",
       "         0.71038962,  0.71214492],\n",
       "       [-0.47342409, -0.47277908, -0.47286688, ..., -0.48136815,\n",
       "        -0.47966676, -0.48373161],\n",
       "       [-0.37282019, -0.37293806, -0.37377259, ..., -0.37430741,\n",
       "        -0.37320079, -0.37652972]])"
      ]
     },
     "execution_count": 14,
     "metadata": {},
     "output_type": "execute_result"
    }
   ],
   "source": [
    "X_train"
   ]
  },
  {
   "cell_type": "code",
   "execution_count": 15,
   "id": "67ca9942",
   "metadata": {},
   "outputs": [
    {
     "data": {
      "text/plain": [
       "array([[-0.96901953, -0.9694086 , -0.96955047, ..., -0.96488296,\n",
       "        -0.96807753, -0.96144628],\n",
       "       [ 1.56092624,  1.5611597 ,  1.55962661, ...,  1.56308326,\n",
       "         1.56014863,  1.56143227],\n",
       "       [ 1.54425993,  1.54085819,  1.54402002, ...,  1.55324033,\n",
       "         1.54818446,  1.55310444],\n",
       "       ...,\n",
       "       [-0.81993182, -0.81896531, -0.8213636 , ..., -0.81481619,\n",
       "        -0.81269476, -0.81714768],\n",
       "       [ 1.75031612,  1.74917594,  1.74993613, ...,  1.75176457,\n",
       "         1.75293837,  1.75388087],\n",
       "       [-0.54978609, -0.54853099, -0.55029376, ..., -0.54527146,\n",
       "        -0.54554543, -0.54505473]])"
      ]
     },
     "execution_count": 15,
     "metadata": {},
     "output_type": "execute_result"
    }
   ],
   "source": [
    "X_test"
   ]
  },
  {
   "cell_type": "code",
   "execution_count": 16,
   "id": "f78eb24b",
   "metadata": {},
   "outputs": [
    {
     "data": {
      "text/plain": [
       "array([[0., 0., 0., ..., 0., 0., 0.],\n",
       "       [1., 0., 0., ..., 0., 0., 0.],\n",
       "       [0., 0., 0., ..., 0., 0., 0.],\n",
       "       ...,\n",
       "       [0., 0., 0., ..., 0., 0., 0.],\n",
       "       [1., 0., 0., ..., 0., 0., 0.],\n",
       "       [0., 0., 0., ..., 0., 0., 1.]], dtype=float32)"
      ]
     },
     "execution_count": 16,
     "metadata": {},
     "output_type": "execute_result"
    }
   ],
   "source": [
    "y_train"
   ]
  },
  {
   "cell_type": "code",
   "execution_count": 17,
   "id": "160e8820",
   "metadata": {},
   "outputs": [
    {
     "data": {
      "text/plain": [
       "array([[0., 0., 0., ..., 0., 0., 0.],\n",
       "       [0., 0., 0., ..., 0., 0., 0.],\n",
       "       [0., 0., 0., ..., 0., 0., 0.],\n",
       "       ...,\n",
       "       [0., 0., 0., ..., 0., 0., 0.],\n",
       "       [0., 0., 0., ..., 0., 0., 0.],\n",
       "       [0., 0., 0., ..., 0., 0., 1.]], dtype=float32)"
      ]
     },
     "execution_count": 17,
     "metadata": {},
     "output_type": "execute_result"
    }
   ],
   "source": [
    "y_test"
   ]
  },
  {
   "cell_type": "code",
   "execution_count": 19,
   "id": "5eb937b7",
   "metadata": {},
   "outputs": [],
   "source": [
    "X_tr = np.array(X_train).reshape(X_train.shape[0], X_train.shape[1], 1).astype('float32')\n",
    "X_vd = np.array(X_val).reshape(X_val.shape[0], X_val.shape[1], 1).astype('float32')\n",
    "\n",
    "y_tr = np.array(y_train).astype('float32')\n",
    "y_vd = np.array(y_val).astype('float32')"
   ]
  },
  {
   "cell_type": "code",
   "execution_count": 20,
   "id": "91ad10f2",
   "metadata": {},
   "outputs": [],
   "source": [
    "X_test = np.array(X_test)\n",
    "X_test = X_test.reshape(X_test.shape[0], X_test.shape[1], 1).astype('float32')"
   ]
  },
  {
   "cell_type": "code",
   "execution_count": 21,
   "id": "b3034767",
   "metadata": {},
   "outputs": [
    {
     "data": {
      "text/plain": [
       "((783572, 10, 1), (783572, 12))"
      ]
     },
     "execution_count": 21,
     "metadata": {},
     "output_type": "execute_result"
    }
   ],
   "source": [
    "X_tr.shape,y_tr.shape"
   ]
  },
  {
   "cell_type": "markdown",
   "id": "ada6df90",
   "metadata": {},
   "source": [
    "# Model"
   ]
  },
  {
   "cell_type": "markdown",
   "id": "0d4ab8d2",
   "metadata": {},
   "source": [
    "### Note: Due to unavailability of GPU, only trained a 1D-CNN with 1 conv block"
   ]
  },
  {
   "cell_type": "code",
   "execution_count": 22,
   "id": "610b7b4b",
   "metadata": {},
   "outputs": [
    {
     "name": "stdout",
     "output_type": "stream",
     "text": [
      "Model: \"sequential\"\n",
      "_________________________________________________________________\n",
      " Layer (type)                Output Shape              Param #   \n",
      "=================================================================\n",
      " conv1d (Conv1D)             (None, 8, 32)             128       \n",
      "                                                                 \n",
      " leaky_re_lu (LeakyReLU)     (None, 8, 32)             0         \n",
      "                                                                 \n",
      " batch_normalization (BatchN  (None, 8, 32)            128       \n",
      " ormalization)                                                   \n",
      "                                                                 \n",
      " conv1d_1 (Conv1D)           (None, 6, 32)             3104      \n",
      "                                                                 \n",
      " leaky_re_lu_1 (LeakyReLU)   (None, 6, 32)             0         \n",
      "                                                                 \n",
      " batch_normalization_1 (Batc  (None, 6, 32)            128       \n",
      " hNormalization)                                                 \n",
      "                                                                 \n",
      " max_pooling1d (MaxPooling1D  (None, 2, 32)            0         \n",
      " )                                                               \n",
      "                                                                 \n",
      " dropout (Dropout)           (None, 2, 32)             0         \n",
      "                                                                 \n",
      " global_average_pooling1d (G  (None, 32)               0         \n",
      " lobalAveragePooling1D)                                          \n",
      "                                                                 \n",
      " dense (Dense)               (None, 12)                396       \n",
      "                                                                 \n",
      " dropout_1 (Dropout)         (None, 12)                0         \n",
      "                                                                 \n",
      "=================================================================\n",
      "Total params: 3,884\n",
      "Trainable params: 3,756\n",
      "Non-trainable params: 128\n",
      "_________________________________________________________________\n"
     ]
    }
   ],
   "source": [
    "dropout_rate = 0.2\n",
    "\n",
    "model = Sequential()\n",
    "\n",
    "model.add(Conv1D(32, 3, input_shape = X_tr.shape[1:3]))\n",
    "model.add(LeakyReLU(alpha=0.1))\n",
    "model.add(BatchNormalization())\n",
    "model.add(Conv1D(32, 3, input_shape = X_tr.shape[1:3]))\n",
    "model.add(LeakyReLU(alpha=0.1))\n",
    "model.add(BatchNormalization())\n",
    "model.add(MaxPooling1D(3))\n",
    "model.add(Dropout(dropout_rate))\n",
    "\n",
    "model.add(GlobalAveragePooling1D())\n",
    "model.add(Dense(12, activation='softmax'))\n",
    "model.add(Dropout(dropout_rate))\n",
    "\n",
    "model.summary()"
   ]
  },
  {
   "cell_type": "markdown",
   "id": "3a699a63",
   "metadata": {},
   "source": [
    "# Training"
   ]
  },
  {
   "cell_type": "code",
   "execution_count": 24,
   "id": "645b0fae",
   "metadata": {},
   "outputs": [
    {
     "name": "stderr",
     "output_type": "stream",
     "text": [
      "WARNING:absl:`lr` is deprecated, please use `learning_rate` instead, or use the legacy optimizer, e.g.,tf.keras.optimizers.legacy.Adam.\n"
     ]
    }
   ],
   "source": [
    "optimizer_ = tf.keras.optimizers.Adam(lr=0.0001, beta_1=0.5)\n",
    "\n",
    "model.compile(loss=tf.keras.losses.categorical_crossentropy, optimizer=optimizer_, metrics=[\n",
    "              tfa.metrics.F1Score(num_classes=12, name='f1_score'), 'accuracy'])"
   ]
  },
  {
   "cell_type": "code",
   "execution_count": 26,
   "id": "f5360caa",
   "metadata": {},
   "outputs": [
    {
     "name": "stdout",
     "output_type": "stream",
     "text": [
      "Epoch 1/5\n",
      "24487/24487 [==============================] - ETA: 0s - loss: 5.0246 - f1_score: 0.0932 - accuracy: 0.1117\n",
      "Epoch 1: val_loss improved from inf to 2.69624, saving model to saved_checkpoints\\chk.pth\n",
      "24487/24487 [==============================] - 68s 3ms/step - loss: 5.0246 - f1_score: 0.0932 - accuracy: 0.1117 - val_loss: 2.6962 - val_f1_score: 0.0611 - val_accuracy: 0.1034 - lr: 0.0010\n",
      "Epoch 2/5\n",
      "24470/24487 [============================>.] - ETA: 0s - loss: 4.9436 - f1_score: 0.1373 - accuracy: 0.1555\n",
      "Epoch 2: val_loss improved from 2.69624 to 2.29962, saving model to saved_checkpoints\\chk.pth\n",
      "24487/24487 [==============================] - 71s 3ms/step - loss: 4.9435 - f1_score: 0.1374 - accuracy: 0.1555 - val_loss: 2.2996 - val_f1_score: 0.1484 - val_accuracy: 0.1910 - lr: 0.0010\n",
      "Epoch 3/5\n",
      "24476/24487 [============================>.] - ETA: 0s - loss: 4.9030 - f1_score: 0.1686 - accuracy: 0.1797\n",
      "Epoch 3: val_loss did not improve from 2.29962\n",
      "\n",
      "Epoch 3: ReduceLROnPlateau reducing learning rate to 0.0005000000237487257.\n",
      "24487/24487 [==============================] - 70s 3ms/step - loss: 4.9030 - f1_score: 0.1686 - accuracy: 0.1797 - val_loss: 2.3109 - val_f1_score: 0.1627 - val_accuracy: 0.1890 - lr: 0.0010\n",
      "Epoch 4/5\n",
      "24477/24487 [============================>.] - ETA: 0s - loss: 4.8813 - f1_score: 0.1838 - accuracy: 0.1923\n",
      "Epoch 4: val_loss improved from 2.29962 to 2.22970, saving model to saved_checkpoints\\chk.pth\n",
      "24487/24487 [==============================] - 73s 3ms/step - loss: 4.8813 - f1_score: 0.1838 - accuracy: 0.1923 - val_loss: 2.2297 - val_f1_score: 0.2075 - val_accuracy: 0.2217 - lr: 5.0000e-04\n",
      "Epoch 5/5\n",
      "24469/24487 [============================>.] - ETA: 0s - loss: 4.8636 - f1_score: 0.1893 - accuracy: 0.1965\n",
      "Epoch 5: val_loss did not improve from 2.22970\n",
      "\n",
      "Epoch 5: ReduceLROnPlateau reducing learning rate to 0.0002500000118743628.\n",
      "24487/24487 [==============================] - 77s 3ms/step - loss: 4.8636 - f1_score: 0.1893 - accuracy: 0.1965 - val_loss: 2.3163 - val_f1_score: 0.1810 - val_accuracy: 0.1968 - lr: 5.0000e-04\n",
      "====================================================================================\n",
      "\n",
      "\n",
      "Training completed in 0:05:58.858302\n"
     ]
    }
   ],
   "source": [
    "#checkpointer = ModelCheckpoint(\n",
    "#    filepath='saved_checkpoints/chk.pth',\n",
    "#    verbose=1,\n",
    "#    save_best_only=True,\n",
    "#    monitor='val_loss',\n",
    "#    mode='min',\n",
    "#    save_weights_only=True)\n",
    "\n",
    "reduce_lr_on_plateau = ReduceLROnPlateau(factor=0.5,\n",
    "                                         patience=1,\n",
    "                                         monitor='val_loss',\n",
    "                                         mode='min',\n",
    "                                         min_lr=0.0000005,\n",
    "                                         verbose=1)\n",
    "\n",
    "earlystopping = EarlyStopping(monitor='val_loss', patience=2)\n",
    "\n",
    "start = datetime.now()\n",
    "\n",
    "trained_model = model.fit(X_tr,\n",
    "                          y_tr,\n",
    "                          batch_size=32,\n",
    "                          epochs=5,\n",
    "                          callbacks=[#checkpointer,\n",
    "                                     reduce_lr_on_plateau, earlystopping],\n",
    "                          validation_data=(X_vd, y_vd),\n",
    "                          verbose=1)\n",
    "\n",
    "print(\"=======\" * 12, end=\"\\n\\n\\n\")\n",
    "\n",
    "duration = datetime.now() - start\n",
    "print(\"Training completed in {}\".format(duration))"
   ]
  },
  {
   "cell_type": "code",
   "execution_count": 28,
   "id": "71184d19",
   "metadata": {},
   "outputs": [
    {
     "data": {
      "text/plain": [
       "<matplotlib.legend.Legend at 0x2a8da856730>"
      ]
     },
     "execution_count": 28,
     "metadata": {},
     "output_type": "execute_result"
    },
    {
     "data": {
      "image/png": "[encoded data removed]",
      "text/plain": [
       "<Figure size 640x480 with 1 Axes>"
      ]
     },
     "metadata": {},
     "output_type": "display_data"
    },
    {
     "data": {
      "image/png": "[encoded data removed]",
      "text/plain": [
       "<Figure size 640x480 with 1 Axes>"
      ]
     },
     "metadata": {},
     "output_type": "display_data"
    },
    {
     "data": {
      "image/png": "[encoded data removed]",
      "text/plain": [
       "<Figure size 640x480 with 1 Axes>"
      ]
     },
     "metadata": {},
     "output_type": "display_data"
    }
   ],
   "source": [
    "f1_val=trained_model.history['val_f1_score']\n",
    "f1_val=np.array(f1_val)\n",
    "avg_f1_val = np.mean(f1_val,axis=1)\n",
    "f1_train=trained_model.history['f1_score']\n",
    "f1_train=np.array(f1_train)\n",
    "avg_f1_train = np.mean(f1_train,axis=1)\n",
    "\n",
    "f1_val_=[]\n",
    "for i in f1_val:\n",
    "    f1_val_.append(i.mean())\n",
    "f1_train_=[]\n",
    "for i in f1_train:\n",
    "    f1_train_.append(i.mean())\n",
    "\n",
    "accuracy = trained_model.history['accuracy']\n",
    "val_accuracy = trained_model.history['val_accuracy']\n",
    "loss = trained_model.history['loss']\n",
    "val_loss = trained_model.history['val_loss']\n",
    "epochs = list(range(0,5))\n",
    "\n",
    "plt.plot(epochs, accuracy, 'r', label='Training accuracy')\n",
    "plt.plot(epochs, val_accuracy, 'b', label='Validation accuracy')\n",
    "plt.title('Training and validation accuracy')\n",
    "plt.xlabel('Epochs')\n",
    "plt.ylabel('Accuracy')\n",
    "plt.legend()\n",
    "\n",
    "plt.figure()\n",
    "plt.plot(epochs, loss, 'r', label='Training loss')\n",
    "plt.plot(epochs, val_loss, 'b', label='Validation loss')\n",
    "plt.title('Training and validation loss')\n",
    "plt.xlabel('Epochs')\n",
    "plt.ylabel('Loss')\n",
    "plt.legend()\n",
    "\n",
    "plt.figure()\n",
    "plt.plot(epochs, f1_train_, 'r', label='Training f1 score')\n",
    "plt.plot(epochs, f1_val_, 'b', label='Validation f1 score')\n",
    "plt.title('Training and validation f1 score')\n",
    "plt.xlabel('Epochs')\n",
    "plt.ylabel('F1 Score')\n",
    "plt.legend()\n"
   ]
  },
  {
   "cell_type": "markdown",
   "id": "ec9c94b4",
   "metadata": {},
   "source": [
    "# Evaluation"
   ]
  },
  {
   "cell_type": "code",
   "execution_count": 29,
   "id": "28d61c3c",
   "metadata": {},
   "outputs": [
    {
     "name": "stdout",
     "output_type": "stream",
     "text": [
      "245/245 [==============================] - 1s 3ms/step\n"
     ]
    }
   ],
   "source": [
    "y_pred = model.predict(X_test, batch_size=1000, verbose=True)"
   ]
  },
  {
   "cell_type": "code",
   "execution_count": 36,
   "id": "becd1b8d",
   "metadata": {},
   "outputs": [],
   "source": [
    "correct_class = 0\n",
    "total = len(y_test)\n",
    "\n",
    "for i,j in zip(y_pred,y_test):\n",
    "    if np.argmax(i) == np.argmax(j):\n",
    "        correct_class += 1"
   ]
  },
  {
   "cell_type": "code",
   "execution_count": 38,
   "id": "d3d64642",
   "metadata": {},
   "outputs": [
    {
     "name": "stdout",
     "output_type": "stream",
     "text": [
      "Accurate preds %:  0.19611870934017242\n"
     ]
    }
   ],
   "source": [
    "print('Accurate preds %: ',correct_class/total)"
   ]
  },
  {
   "cell_type": "markdown",
   "id": "05fa9a2c",
   "metadata": {},
   "source": [
    "# Further improvements:\n",
    "\n",
    "- Could have calculated more features from the existing ones, like: PR duration/segment, QRS duration/segment, U wave, etc.\n",
    "\n",
    "- Could have improved the CNN by adding more Convolutional Blocks and loss functions."
   ]
  },
  {
   "cell_type": "code",
   "execution_count": null,
   "id": "f7fa2301",
   "metadata": {},
   "outputs": [],
   "source": []
  }
 ],
 "metadata": {
  "kernelspec": {
   "display_name": "Python 3 (ipykernel)",
   "language": "python",
   "name": "python3"
  },
  "language_info": {
   "codemirror_mode": {
    "name": "ipython",
    "version": 3
   },
   "file_extension": ".py",
   "mimetype": "text/x-python",
   "name": "python",
   "nbconvert_exporter": "python",
   "pygments_lexer": "ipython3",
   "version": "3.9.13"
  }
 },
 "nbformat": 4,
 "nbformat_minor": 5
}
